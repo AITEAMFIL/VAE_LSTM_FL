{
 "cells": [
  {
   "cell_type": "code",
   "execution_count": 1,
   "metadata": {},
   "outputs": [],
   "source": [
    "import warnings\n",
    "def fxn():\n",
    "    warnings.warn(\"deprecated\", DeprecationWarning)\n",
    "\n",
    "with warnings.catch_warnings():\n",
    "    warnings.simplefilter(\"ignore\")\n",
    "    fxn()"
   ]
  },
  {
   "cell_type": "code",
   "execution_count": 2,
   "metadata": {},
   "outputs": [],
   "source": [
    "import tensorflow as tf\n",
    "import tensorflow_probability as tfp\n",
    "import numpy as np\n",
    "import matplotlib.pylab as plt\n",
    "from matplotlib.pyplot import plot, ion, show, savefig, cla, figure\n",
    "import random\n",
    "import time"
   ]
  },
  {
   "cell_type": "code",
   "execution_count": 3,
   "metadata": {},
   "outputs": [],
   "source": [
    "import os\n",
    "os.environ[\"CUDA_DEVICE_ORDER\"]=\"PCI_BUS_ID\"   # see issue #152\n",
    "os.environ[\"CUDA_VISIBLE_DEVICES\"]=\"0\"\n",
    "\n",
    "import tensorflow as tf\n",
    "from data_loader import DataGenerator\n",
    "from models import VAEmodel, lstmKerasModel\n",
    "from trainers import vaeTrainer\n",
    "\n",
    "from utils import process_config, create_dirs, get_args"
   ]
  },
  {
   "cell_type": "code",
   "execution_count": 4,
   "metadata": {},
   "outputs": [
    {
     "name": "stdout",
     "output_type": "stream",
     "text": [
      "[]\n"
     ]
    }
   ],
   "source": [
    "from tensorflow.python.client import device_lib\n",
    "\n",
    "def get_available_gpus():\n",
    "    local_device_protos = device_lib.list_local_devices()\n",
    "    return [x.name for x in local_device_protos if x.device_type == 'GPU']\n",
    "\n",
    "print(get_available_gpus())"
   ]
  },
  {
   "cell_type": "code",
   "execution_count": 5,
   "metadata": {
    "scrolled": false
   },
   "outputs": [
    {
     "name": "stdout",
     "output_type": "stream",
     "text": [
      "Device mapping:\n",
      "/job:localhost/replica:0/task:0/device:XLA_CPU:0 -> device: XLA_CPU device\n",
      "/job:localhost/replica:0/task:0/device:XLA_GPU:0 -> device: XLA_GPU device\n",
      "\n"
     ]
    }
   ],
   "source": [
    "# load VAE model\n",
    "config = process_config('NAB_config3.json')\n",
    "# create the experiments dirs\n",
    "create_dirs([config['result_dir'], config['checkpoint_dir']])\n",
    "# create tensorflow session\n",
    "sess = tf.Session(config=tf.ConfigProto(log_device_placement=True))\n",
    "# create your data generator\n",
    "# config['dataset'] = 'ecg'\n",
    "data = DataGenerator(config)\n",
    "# print(data.shape)\n"
   ]
  },
  {
   "cell_type": "code",
   "execution_count": 6,
   "metadata": {},
   "outputs": [
    {
     "name": "stdout",
     "output_type": "stream",
     "text": [
      "WARNING:tensorflow:From /home/quang/Documents/FIL/VAE3/codes/base.py:67: The name tf.variable_scope is deprecated. Please use tf.compat.v1.variable_scope instead.\n",
      "\n",
      "WARNING:tensorflow:From /home/quang/Documents/FIL/VAE3/codes/base.py:69: The name tf.assign is deprecated. Please use tf.compat.v1.assign instead.\n",
      "\n",
      "WARNING:tensorflow:From /home/quang/Documents/FIL/VAE3/codes/models.py:25: The name tf.placeholder is deprecated. Please use tf.compat.v1.placeholder instead.\n",
      "\n",
      "original_signal shape:  (?, 24, 1)\n",
      "WARNING:tensorflow:From /home/quang/anaconda3/envs/VAE/lib/python3.7/site-packages/tensorflow_core/python/data/util/random_seed.py:58: where (from tensorflow.python.ops.array_ops) is deprecated and will be removed in a future version.\n",
      "Instructions for updating:\n",
      "Use tf.where in 2.0, which has the same broadcast rule as np.where\n",
      "WARNING:tensorflow:From /home/quang/Documents/FIL/VAE3/codes/models.py:32: DatasetV1.make_initializable_iterator (from tensorflow.python.data.ops.dataset_ops) is deprecated and will be removed in a future version.\n",
      "Instructions for updating:\n",
      "Use `for ... in dataset:` to iterate over a dataset. If using `tf.estimator`, return the `Dataset` object directly from your input function. As a last resort, you can use `tf.compat.v1.data.make_initializable_iterator(dataset)`.\n",
      "WARNING:tensorflow:\n",
      "The TensorFlow contrib module will not be included in TensorFlow 2.0.\n",
      "For more information, please see:\n",
      "  * https://github.com/tensorflow/community/blob/master/rfcs/20180907-contrib-sunset.md\n",
      "  * https://github.com/tensorflow/addons\n",
      "  * https://github.com/tensorflow/io (for I/O related ops)\n",
      "If you depend on functionality not listed there, please file an issue.\n",
      "\n",
      "input_tensor shape: (?, 24, 1, 1)\n",
      "WARNING:tensorflow:From /home/quang/Documents/FIL/VAE3/codes/models.py:53: conv2d (from tensorflow.python.layers.convolutional) is deprecated and will be removed in a future version.\n",
      "Instructions for updating:\n",
      "Use `tf.keras.layers.Conv2D` instead.\n",
      "WARNING:tensorflow:From /home/quang/anaconda3/envs/VAE/lib/python3.7/site-packages/tensorflow_core/python/layers/convolutional.py:424: Layer.apply (from tensorflow.python.keras.engine.base_layer) is deprecated and will be removed in a future version.\n",
      "Instructions for updating:\n",
      "Please use `layer.__call__` method instead.\n",
      "conv_1: Tensor(\"encoder_Global/conv2d/LeakyRelu:0\", shape=(?, 16, 1, 32), dtype=float32)\n",
      "conv_2: Tensor(\"encoder_Global/conv2d_1/LeakyRelu:0\", shape=(?, 8, 1, 64), dtype=float32)\n",
      "conv_3: Tensor(\"encoder_Global/conv2d_2/LeakyRelu:0\", shape=(?, 4, 1, 128), dtype=float32)\n",
      "conv_4: Tensor(\"encoder_Global/conv2d_3/LeakyRelu:0\", shape=(?, 1, 1, 512), dtype=float32)\n",
      "WARNING:tensorflow:From /home/quang/Documents/FIL/VAE3/codes/models.py:146: flatten (from tensorflow.python.layers.core) is deprecated and will be removed in a future version.\n",
      "Instructions for updating:\n",
      "Use keras.layers.flatten instead.\n",
      "WARNING:tensorflow:From /home/quang/Documents/FIL/VAE3/codes/models.py:150: dense (from tensorflow.python.layers.core) is deprecated and will be removed in a future version.\n",
      "Instructions for updating:\n",
      "Use keras.layers.Dense instead.\n",
      "finish encoder for Global: \n",
      "Tensor(\"encoder_Global/MultivariateNormalDiag/sample/affine_linear_operator/forward/add:0\", shape=(?, 6), dtype=float32)\n",
      "\n",
      "\n",
      "Decoder input shape: (?, 6)\n",
      "decoded_2 is: Tensor(\"decoder_Global/Reshape_1:0\", shape=(?, 4, 1, 128), dtype=float32)\n",
      "decoded_3 is: Tensor(\"decoder_Global/Reshape_2:0\", shape=(?, 8, 1, 64), dtype=float32)\n",
      "decoded_4 is: Tensor(\"decoder_Global/Reshape_3:0\", shape=(?, 16, 1, 32), dtype=float32)\n",
      "decoded_5 is: Tensor(\"decoder_Global/Reshape_4:0\", shape=(?, 32, 1, 16), dtype=float32)\n",
      "decoded_6 is: Tensor(\"decoder_Global/conv2d_4/BiasAdd:0\", shape=(?, 24, 1, 1), dtype=float32)\n",
      "finish decoder for Global: \n",
      "Tensor(\"decoder_Global/Reshape_5:0\", shape=(?, 24, 1), dtype=float32)\n",
      "\n",
      "\n",
      "sigma2 for Global: \n",
      "Tensor(\"sigma2_dataset_Global/Square:0\", shape=(), dtype=float32)\n",
      "\n",
      "WARNING:tensorflow:From /home/quang/Documents/FIL/VAE3/codes/base.py:78: The name tf.log is deprecated. Please use tf.math.log instead.\n",
      "\n",
      "KL_loss shape2 ()\n",
      "recon_error shape ()\n",
      "ls_recon shape ()\n",
      "sigma_regu shape ()\n",
      "two_pi shape ()\n",
      "elbo loss shape []\n",
      "WARNING:tensorflow:From /home/quang/Documents/FIL/VAE3/codes/base.py:111: The name tf.get_collection is deprecated. Please use tf.compat.v1.get_collection instead.\n",
      "\n",
      "WARNING:tensorflow:From /home/quang/Documents/FIL/VAE3/codes/base.py:111: The name tf.GraphKeys is deprecated. Please use tf.compat.v1.GraphKeys instead.\n",
      "\n",
      "WARNING:tensorflow:From /home/quang/Documents/FIL/VAE3/codes/utils.py:79: The name tf.trainable_variables is deprecated. Please use tf.compat.v1.trainable_variables instead.\n",
      "\n",
      "The total number of trainable parameters in the encoder_Global model is: 306308\n",
      "The total number of trainable parameters in the decoder_Global model is: 331121\n",
      "The total number of trainable parameters in the sigma2_dataset_Global model is: 0\n",
      "Total number of trainable parameters in the VAE network of Global is: 637429\n",
      "WARNING:tensorflow:From /home/quang/Documents/FIL/VAE3/codes/base.py:124: The name tf.train.AdamOptimizer is deprecated. Please use tf.compat.v1.train.AdamOptimizer instead.\n",
      "\n",
      "gvs for dataset: [(<tf.Tensor 'gradients/encoder_Global/conv2d/Conv2D_grad/tuple/control_dependency_1:0' shape=(3, 1, 1, 32) dtype=float32>, <tf.Variable 'encoder_Global/conv2d/kernel:0' shape=(3, 1, 1, 32) dtype=float32_ref>), (<tf.Tensor 'gradients/encoder_Global/conv2d/BiasAdd_grad/tuple/control_dependency_1:0' shape=(32,) dtype=float32>, <tf.Variable 'encoder_Global/conv2d/bias:0' shape=(32,) dtype=float32_ref>), (<tf.Tensor 'gradients/encoder_Global/conv2d_1/Conv2D_grad/tuple/control_dependency_1:0' shape=(3, 1, 32, 64) dtype=float32>, <tf.Variable 'encoder_Global/conv2d_1/kernel:0' shape=(3, 1, 32, 64) dtype=float32_ref>), (<tf.Tensor 'gradients/encoder_Global/conv2d_1/BiasAdd_grad/tuple/control_dependency_1:0' shape=(64,) dtype=float32>, <tf.Variable 'encoder_Global/conv2d_1/bias:0' shape=(64,) dtype=float32_ref>), (<tf.Tensor 'gradients/encoder_Global/conv2d_2/Conv2D_grad/tuple/control_dependency_1:0' shape=(3, 1, 64, 128) dtype=float32>, <tf.Variable 'encoder_Global/conv2d_2/kernel:0' shape=(3, 1, 64, 128) dtype=float32_ref>), (<tf.Tensor 'gradients/encoder_Global/conv2d_2/BiasAdd_grad/tuple/control_dependency_1:0' shape=(128,) dtype=float32>, <tf.Variable 'encoder_Global/conv2d_2/bias:0' shape=(128,) dtype=float32_ref>), (<tf.Tensor 'gradients/encoder_Global/conv2d_3/Conv2D_grad/tuple/control_dependency_1:0' shape=(4, 1, 128, 512) dtype=float32>, <tf.Variable 'encoder_Global/conv2d_3/kernel:0' shape=(4, 1, 128, 512) dtype=float32_ref>), (<tf.Tensor 'gradients/encoder_Global/conv2d_3/BiasAdd_grad/tuple/control_dependency_1:0' shape=(512,) dtype=float32>, <tf.Variable 'encoder_Global/conv2d_3/bias:0' shape=(512,) dtype=float32_ref>), (<tf.Tensor 'gradients/encoder_Global/dense/MatMul_grad/tuple/control_dependency_1:0' shape=(512, 24) dtype=float32>, <tf.Variable 'encoder_Global/dense/kernel:0' shape=(512, 24) dtype=float32_ref>), (<tf.Tensor 'gradients/encoder_Global/dense/BiasAdd_grad/tuple/control_dependency_1:0' shape=(24,) dtype=float32>, <tf.Variable 'encoder_Global/dense/bias:0' shape=(24,) dtype=float32_ref>), (<tf.Tensor 'gradients/encoder_Global/code_mean/MatMul_grad/tuple/control_dependency_1:0' shape=(24, 6) dtype=float32>, <tf.Variable 'encoder_Global/code_mean/kernel:0' shape=(24, 6) dtype=float32_ref>), (<tf.Tensor 'gradients/encoder_Global/code_mean/BiasAdd_grad/tuple/control_dependency_1:0' shape=(6,) dtype=float32>, <tf.Variable 'encoder_Global/code_mean/bias:0' shape=(6,) dtype=float32_ref>), (<tf.Tensor 'gradients/encoder_Global/code_std_dev/MatMul_grad/tuple/control_dependency_1:0' shape=(24, 6) dtype=float32>, <tf.Variable 'encoder_Global/code_std_dev/kernel:0' shape=(24, 6) dtype=float32_ref>), (<tf.Tensor 'gradients/encoder_Global/code_std_dev/BiasAdd_grad/tuple/control_dependency_1:0' shape=(6,) dtype=float32>, <tf.Variable 'encoder_Global/code_std_dev/bias:0' shape=(6,) dtype=float32_ref>), (<tf.Tensor 'gradients/decoder_Global/dense/MatMul_grad/tuple/control_dependency_1:0' shape=(6, 512) dtype=float32>, <tf.Variable 'decoder_Global/dense/kernel:0' shape=(6, 512) dtype=float32_ref>), (<tf.Tensor 'gradients/decoder_Global/dense/BiasAdd_grad/tuple/control_dependency_1:0' shape=(512,) dtype=float32>, <tf.Variable 'decoder_Global/dense/bias:0' shape=(512,) dtype=float32_ref>), (<tf.Tensor 'gradients/decoder_Global/conv2d/Conv2D_grad/tuple/control_dependency_1:0' shape=(1, 1, 512, 512) dtype=float32>, <tf.Variable 'decoder_Global/conv2d/kernel:0' shape=(1, 1, 512, 512) dtype=float32_ref>), (<tf.Tensor 'gradients/decoder_Global/conv2d/BiasAdd_grad/tuple/control_dependency_1:0' shape=(512,) dtype=float32>, <tf.Variable 'decoder_Global/conv2d/bias:0' shape=(512,) dtype=float32_ref>), (<tf.Tensor 'gradients/decoder_Global/conv2d_1/Conv2D_grad/tuple/control_dependency_1:0' shape=(3, 1, 128, 128) dtype=float32>, <tf.Variable 'decoder_Global/conv2d_1/kernel:0' shape=(3, 1, 128, 128) dtype=float32_ref>), (<tf.Tensor 'gradients/decoder_Global/conv2d_1/BiasAdd_grad/tuple/control_dependency_1:0' shape=(128,) dtype=float32>, <tf.Variable 'decoder_Global/conv2d_1/bias:0' shape=(128,) dtype=float32_ref>), (<tf.Tensor 'gradients/decoder_Global/conv2d_2/Conv2D_grad/tuple/control_dependency_1:0' shape=(3, 1, 64, 64) dtype=float32>, <tf.Variable 'decoder_Global/conv2d_2/kernel:0' shape=(3, 1, 64, 64) dtype=float32_ref>), (<tf.Tensor 'gradients/decoder_Global/conv2d_2/BiasAdd_grad/tuple/control_dependency_1:0' shape=(64,) dtype=float32>, <tf.Variable 'decoder_Global/conv2d_2/bias:0' shape=(64,) dtype=float32_ref>), (<tf.Tensor 'gradients/decoder_Global/conv2d_3/Conv2D_grad/tuple/control_dependency_1:0' shape=(3, 1, 32, 32) dtype=float32>, <tf.Variable 'decoder_Global/conv2d_3/kernel:0' shape=(3, 1, 32, 32) dtype=float32_ref>), (<tf.Tensor 'gradients/decoder_Global/conv2d_3/BiasAdd_grad/tuple/control_dependency_1:0' shape=(32,) dtype=float32>, <tf.Variable 'decoder_Global/conv2d_3/bias:0' shape=(32,) dtype=float32_ref>), (<tf.Tensor 'gradients/decoder_Global/conv2d_4/Conv2D_grad/tuple/control_dependency_1:0' shape=(9, 1, 16, 1) dtype=float32>, <tf.Variable 'decoder_Global/conv2d_4/kernel:0' shape=(9, 1, 16, 1) dtype=float32_ref>), (<tf.Tensor 'gradients/decoder_Global/conv2d_4/BiasAdd_grad/tuple/control_dependency_1:0' shape=(1,) dtype=float32>, <tf.Variable 'decoder_Global/conv2d_4/bias:0' shape=(1,) dtype=float32_ref>)]\n"
     ]
    },
    {
     "name": "stdout",
     "output_type": "stream",
     "text": [
      "Reach the definition of loss for VAE\n",
      "WARNING:tensorflow:From /home/quang/Documents/FIL/VAE3/codes/base.py:140: The name tf.train.Saver is deprecated. Please use tf.compat.v1.train.Saver instead.\n",
      "\n",
      "WARNING:tensorflow:From /home/quang/Documents/FIL/VAE3/codes/base.py:149: The name tf.global_variables_initializer is deprecated. Please use tf.compat.v1.global_variables_initializer instead.\n",
      "\n",
      "WARNING:tensorflow:From /home/quang/Documents/FIL/VAE3/codes/base.py:150: The name tf.local_variables_initializer is deprecated. Please use tf.compat.v1.local_variables_initializer instead.\n",
      "\n",
      "checkpoint_dir at loading: ../experiments/local-results/Power_demand/power_demand/batch-32/Power_demand-power_demand-24-12-6-fixedSigma-0.1/checkpoint/Global\n",
      "Loading model checkpoint ../experiments/local-results/Power_demand/power_demand/batch-32/Power_demand-power_demand-24-12-6-fixedSigma-0.1/checkpoint/Global/-509 ...\n",
      "\n",
      "INFO:tensorflow:Restoring parameters from ../experiments/local-results/Power_demand/power_demand/batch-32/Power_demand-power_demand-24-12-6-fixedSigma-0.1/checkpoint/Global/-509\n",
      "Model loaded.\n"
     ]
    }
   ],
   "source": [
    "# create a CNN model\n",
    "model_vae = VAEmodel(config, \"Global\")\n",
    "# create a CNN model\n",
    "trainer_vae = vaeTrainer(sess, model_vae, data, config)\n",
    "model_vae.load(sess)"
   ]
  },
  {
   "cell_type": "code",
   "execution_count": 7,
   "metadata": {},
   "outputs": [
    {
     "name": "stdout",
     "output_type": "stream",
     "text": [
      "lstm input: (?, 11, 6)\n",
      "WARNING:tensorflow:From /home/quang/anaconda3/envs/VAE/lib/python3.7/site-packages/tensorflow_core/python/ops/resource_variable_ops.py:1630: calling BaseResourceVariable.__init__ (from tensorflow.python.ops.resource_variable_ops) with constraint is deprecated and will be removed in a future version.\n",
      "Instructions for updating:\n",
      "If using Keras pass *_constraint arguments to layers.\n",
      "Finish processing the embeddings of the entire dataset of Global.\n",
      "lstm input: (?, 11, 6)\n",
      "Model: \"model_1\"\n",
      "_________________________________________________________________\n",
      "Layer (type)                 Output Shape              Param #   \n",
      "=================================================================\n",
      "input_2 (InputLayer)         [(None, 11, 6)]           0         \n",
      "_________________________________________________________________\n",
      "lstm_3 (LSTM)                (None, 11, 64)            18176     \n",
      "_________________________________________________________________\n",
      "lstm_4 (LSTM)                (None, 11, 64)            33024     \n",
      "_________________________________________________________________\n",
      "lstm_5 (LSTM)                (None, 11, 6)             1704      \n",
      "=================================================================\n",
      "Total params: 52,904\n",
      "Trainable params: 52,904\n",
      "Non-trainable params: 0\n",
      "_________________________________________________________________\n",
      "../experiments/local-results/Power_demand/power_demand/batch-32/Power_demand-power_demand-24-12-6-fixedSigma-0.1/checkpoint/lstm/checkpoint\n",
      "LSTM model loaded.\n"
     ]
    }
   ],
   "source": [
    "# load LSTM model\n",
    "lstm_model = lstmKerasModel(\"Global\",config)\n",
    "lstm_model.produce_embeddings(model_vae, data, sess)\n",
    "lstm_nn_model = lstm_model.create_lstm_model()\n",
    "lstm_nn_model.summary()   # Display the model's architecture\n",
    "\n",
    "# checkpoint path\n",
    "checkpoint_path = config['checkpoint_dir_lstm'] + \"cp_Global.ckpt\"\n",
    "checkpoint_dir = os.path.dirname(checkpoint_path)\n",
    "# Create a callback that saves the model's weights\n",
    "cp_callback = tf.keras.callbacks.ModelCheckpoint(filepath=checkpoint_path,\n",
    "                                                 save_weights_only=True,\n",
    "                                                 verbose=1)\n",
    "# load weights if possible\n",
    "lstm_model.load_model(lstm_nn_model, checkpoint_path)\n"
   ]
  },
  {
   "cell_type": "code",
   "execution_count": 12,
   "metadata": {},
   "outputs": [
    {
     "data": {
      "text/plain": [
       "{'readings': array([[950.],\n",
       "        [939.],\n",
       "        [943.],\n",
       "        ...,\n",
       "        [627.],\n",
       "        [633.],\n",
       "        [882.]]),\n",
       " 'idx_anomaly': array([ 8255,  8256,  8257, ..., 34598, 34599, 34600]),\n",
       " 'training': array([[-0.88647904],\n",
       "        [-0.79826021],\n",
       "        [-0.69239761],\n",
       "        ...,\n",
       "        [-0.60770753],\n",
       "        [-0.55830498],\n",
       "        [-0.59359251]]),\n",
       " 'test': array([[-0.45597113],\n",
       "        [-0.41362609],\n",
       "        [-0.38539607],\n",
       "        ...,\n",
       "        [-0.84060525],\n",
       "        [-0.84766275],\n",
       "        [-0.81943273]]),\n",
       " 'train_m': array([1140.21592725]),\n",
       " 'train_std': array([283.38620055]),\n",
       " '_train': array([    1,     2,     3, ..., 18143, 18144, 18145]),\n",
       " 't_test': array([    1,     2,     3, ..., 14784, 14785, 14786]),\n",
       " 'idx_anomaly_test': array([ 7754,  7755,  7756, ..., 34097, 34098, 34099])}"
      ]
     },
     "execution_count": 12,
     "metadata": {},
     "output_type": "execute_result"
    }
   ],
   "source": [
    "result"
   ]
  },
  {
   "cell_type": "code",
   "execution_count": 9,
   "metadata": {},
   "outputs": [
    {
     "name": "stdout",
     "output_type": "stream",
     "text": [
      "The given sequence has 14786 samples\n",
      "(14763, 24, 1)\n",
      "(14499, 12, 24, 1)\n"
     ]
    }
   ],
   "source": [
    "# load normalised time series\n",
    "save_dir = '../datasets/NAB-known-anomaly/'\n",
    "# config['dataset'] = 'ecg_6'\n",
    "dataset = config['dataset']\n",
    "filename = '{}.npz'.format(dataset)\n",
    "result = dict(np.load(save_dir+filename, allow_pickle=True))\n",
    "if dataset == 'machine_temp':\n",
    "    result['test'] = result['test'][0]\n",
    "    result['idx_anomaly_test'] = result['idx_anomaly_test'][0]\n",
    "    result['t_test'] = result['t_test'][0]\n",
    "\n",
    "# slice into rolling windows and rolling sequences\n",
    "def slice_rolling_windows_and_sequences(config, time_seq):\n",
    "    n_sample = len(time_seq)\n",
    "    print(\"The given sequence has {} samples\".format(n_sample))\n",
    "    n_vae_win = n_sample - config['l_win'] + 1\n",
    "    rolling_windows = np.zeros((n_vae_win, config['l_win'], config['n_channel']))\n",
    "    for i in range(n_vae_win):\n",
    "        rolling_windows[i] = time_seq[i:i + config['l_win']]\n",
    "        sample_m = np.mean(rolling_windows, axis=1)\n",
    "        sample_std = np.std(rolling_windows, axis=1)\n",
    "\n",
    "        n_lstm_seq = n_sample - config['l_seq']*config['l_win']+1\n",
    "        lstm_seq = np.zeros((n_lstm_seq, config['l_seq'], config['l_win'], config['n_channel']))\n",
    "    for i in range(n_lstm_seq):\n",
    "        cur_seq = time_seq[i:i+config['l_seq']*config['l_win']]\n",
    "        for j in range(config['l_seq']):\n",
    "            lstm_seq[i,j] = cur_seq[config['l_win']*j:config['l_win']*(j+1)]\n",
    "    \n",
    "    return rolling_windows, lstm_seq, sample_m, sample_std\n",
    "\n",
    "test_windows, test_seq, test_sample_m, test_sample_std = slice_rolling_windows_and_sequences(config, result['test'])\n",
    "test_windows = np.reshape(test_windows, (-1,config['l_win'],config['n_channel']))\n",
    "test_seq = np.reshape(test_seq, (-1,config['l_seq'],config['l_win'],config['n_channel']))\n",
    "print(test_windows.shape)\n",
    "print(test_seq.shape)"
   ]
  },
  {
   "cell_type": "code",
   "execution_count": 10,
   "metadata": {},
   "outputs": [
    {
     "data": {
      "text/plain": [
       "(1813, 24, 1)"
      ]
     },
     "execution_count": 10,
     "metadata": {},
     "output_type": "execute_result"
    }
   ],
   "source": [
    "data.val_set_vae['data'].shape"
   ]
  },
  {
   "cell_type": "code",
   "execution_count": 11,
   "metadata": {},
   "outputs": [
    {
     "name": "stdout",
     "output_type": "stream",
     "text": [
      "(1813, 24, 1)\n",
      "(1, 24, 1)\n"
     ]
    }
   ],
   "source": [
    "# Evaluate ELBO and LSTM prediction error on the validation set\n",
    "# evaluate some anomaly detection metrics\n",
    "def evaluate_vae_anomaly_metrics_for_a_window(test_win):\n",
    "    feed_dict = {model_vae.original_signal: np.expand_dims(test_win, 0),\n",
    "                 model_vae.is_code_input: False,\n",
    "                 model_vae.code_input: np.zeros((1, config['code_size']))}\n",
    "\n",
    "    # VAE reconstruction error\n",
    "    recons_win_vae = np.squeeze(sess.run(model_vae.decoded, feed_dict=feed_dict))\n",
    "    test_vae_recons_error = np.sum(np.square(recons_win_vae - test_win))\n",
    "\n",
    "    # VAE latent embedding likelihood\n",
    "    vae_code_mean, vae_code_std = sess.run([model_vae.code_mean, model_vae.code_std_dev], feed_dict=feed_dict)\n",
    "    test_vae_kl = 0.5 * (np.sum(np.square(vae_code_mean)) + \\\n",
    "                            np.sum(np.square(vae_code_std)) - \\\n",
    "                            np.sum(np.log(np.square(vae_code_std))) - config['code_size'])\n",
    "\n",
    "    # VAE ELBO loss\n",
    "    sigma2 = 0.0005\n",
    "    input_dims = model_vae.input_dims\n",
    "    sigma_regularisor = input_dims/2. * np.log(sigma2) + input_dims * np.pi\n",
    "    test_vae_elbo = test_vae_recons_error/sigma2 + test_vae_kl + sigma_regularisor\n",
    "    return test_vae_recons_error, test_vae_kl, test_vae_elbo\n",
    "\n",
    "def evaluate_lstm_anomaly_metric_for_a_seq(test_seq):\n",
    "    feed_dict = {model_vae.original_signal: test_seq,\n",
    "                 model_vae.is_code_input: False,\n",
    "                 model_vae.code_input: np.zeros((1, config['code_size']))}\n",
    "    vae_embedding = np.squeeze(sess.run(model_vae.code_mean, feed_dict=feed_dict))\n",
    "    #print(vae_embedding.shape)\n",
    "    lstm_embedding = np.squeeze(lstm_nn_model.predict(np.expand_dims(vae_embedding[:config['l_seq']-1], 0), batch_size=1))\n",
    "    lstm_embedding_error = np.sum(np.square(vae_embedding[1:] - lstm_embedding))\n",
    "    # error_original = vae_embedding[1:] - lstm_embedding\n",
    "    #print(error_original.shape)\n",
    "    \n",
    "    # LSTM prediction error\n",
    "    feed_dict_lstm = {model_vae.original_signal: np.zeros((config['l_seq'] - 1, config['l_win'], config['n_channel'])),\n",
    "                      model_vae.is_code_input: True,\n",
    "                      model_vae.code_input: lstm_embedding}\n",
    "    recons_win_lstm = np.squeeze(sess.run(model_vae.decoded, feed_dict=feed_dict_lstm))\n",
    "    lstm_recons_error = np.sum(np.square(recons_win_lstm - np.squeeze(test_seq[1:])))\n",
    "    error_original = np.abs(recons_win_lstm - np.squeeze(test_seq[1:])).reshape((config['l_seq']-1,-1)) #them dong nay de tinh\n",
    "    return lstm_recons_error, lstm_embedding_error, error_original\n",
    "\n",
    "data.val_set_vae['data'] = np.asarray(data.val_set_vae['data'])\n",
    "print(data.val_set_vae['data'].shape)\n",
    "data.val_set_lstm['data'] = np.asarray(data.val_set_lstm['data'])\n",
    "data.train_set_lstm['data'] = np.asarray(data.train_set_lstm['data'])\n",
    "data.train_set_vae['data'] = np.asarray(data.train_set_vae['data'])\n",
    "n_val_vae = data.val_set_vae['data'].shape[0]\n",
    "n_val_lstm = data.val_set_lstm['data'].shape[0]\n",
    "# print(np.asarray(data.val_set_vae['data']).shape)\n",
    "\n",
    "val_vae_recons_error = np.zeros(n_val_vae)\n",
    "val_vae_kl_error = np.zeros(n_val_vae)\n",
    "val_vae_elbo_loss = np.zeros(n_val_vae)\n",
    "print(np.reshape(data.val_set_vae['data'][0], (-1, config['l_win'], config['n_channel'])).shape)\n",
    "for i in range(n_val_vae):\n",
    "#     val_vae_recons_error[i], val_vae_kl_error[i], val_vae_elbo_loss[i] = evaluate_vae_anomaly_metrics_for_a_window(np.reshape(data.val_set_vae['data'][i], (-1, config['l_win'], config['n_channel'])))\n",
    "    val_vae_recons_error[i], val_vae_kl_error[i], val_vae_elbo_loss[i] = evaluate_vae_anomaly_metrics_for_a_window(data.val_set_vae['data'][i])\n",
    "\n",
    "val_lstm_recons_error, val_lstm_embedding_error = np.zeros(n_val_lstm), np.zeros(n_val_lstm)\n",
    "val_lstm_error_original = np.zeros((n_val_lstm,config['l_seq']-1,config['l_win']*config['n_channel'])) #them de tinh OCSVM\n",
    "for i in range(n_val_lstm):\n",
    "    val_lstm_recons_error[i], val_lstm_embedding_error[i], val_lstm_error_original[i] = evaluate_lstm_anomaly_metric_for_a_seq(np.reshape(data.val_set_lstm['data'][i], (-1, config['l_win'], config['n_channel'])))\n",
    "\n",
    "n_train_lstm = data.train_set_lstm['data'].shape[0]\n",
    "train_lstm_recons_error, train_lstm_embedding_error = np.zeros(n_train_lstm), np.zeros(n_train_lstm)\n",
    "train_lstm_error_original = np.zeros((n_train_lstm,config['l_seq']-1,config['l_win']*config['n_channel'])) #them de tinh OCSVM\n",
    "for i in range(n_train_lstm):\n",
    "    train_lstm_recons_error[i], train_lstm_embedding_error[i], train_lstm_error_original[i] = evaluate_lstm_anomaly_metric_for_a_seq(np.reshape(data.train_set_lstm['data'][i], (-1, config['l_win'], config['n_channel'])))"
   ]
  },
  {
   "cell_type": "code",
   "execution_count": 13,
   "metadata": {},
   "outputs": [],
   "source": [
    "from scipy.stats import norm\n",
    "def plot_histogram(test_anomaly_metric, n_bins, title, name='reconstruction_error_histogram',mean=None, std=None, xlim=None, saveplot=False):\n",
    "    test_anomaly_list = np.squeeze(np.ndarray.flatten(test_anomaly_metric))\n",
    "    his = plt.hist(test_anomaly_list, bins=n_bins, density=True)\n",
    "    if mean is None and std is None:\n",
    "        mean = np.mean(test_anomaly_list)\n",
    "        std = np.std(test_anomaly_list)\n",
    "        legend_label = None\n",
    "    else:\n",
    "        legend_label = 1\n",
    "    x_axis = np.arange(mean-5*std, mean+5*std, std/100)\n",
    "    plt.plot(x_axis, norm.pdf(x_axis,mean,std))\n",
    "    plt.title(title)\n",
    "    plt.xlabel('anomaly score value')\n",
    "    plt.ylabel('probability density')\n",
    "    if xlim is not None:\n",
    "        plt.xlim(0, xlim)\n",
    "    else:\n",
    "        plt.xlim(0, np.amax(test_anomaly_list))\n",
    "    if legend_label is None:\n",
    "        plt.legend(('Fitted Gaussian', 'histogram'))\n",
    "    else:\n",
    "        plt.legend(('normal data distribution','test data distribution (contain anomalies)'))\n",
    "    if saveplot:\n",
    "        savefig(config['result_dir']+ name + '_{}.png'.format(config['dataset']))\n",
    "    else:\n",
    "        plt.show()\n",
    "    threshold_25 = np.percentile(test_anomaly_list, 25)\n",
    "    threshold_75 = np.percentile(test_anomaly_list, 75)\n",
    "    threshold_1 = np.percentile(test_anomaly_list, 99)\n",
    "    idx_large_error = np.squeeze(np.argwhere(test_anomaly_metric > threshold_1))\n",
    "#     print(his[0][-20:])\n",
    "#     print(his[1][-20:])\n",
    "    print(\"25% percentile: {}\".format(threshold_25))\n",
    "    print(\"75% percentile: {}\".format(threshold_75))\n",
    "#     print(\"Median: {}\".format(np.median(test_anomaly_list)))\n",
    "#     print(\"Mean: {}\".format(np.mean(test_anomaly_list)))\n",
    "#     print(\"Std dev: {}\".format(np.std(test_anomaly_list)))\n",
    "    print(\"These windows scored the top 1% of anomaly metric ({}): \\n{}\".format(threshold_1, idx_large_error))\n",
    "    return mean, std"
   ]
  },
  {
   "cell_type": "code",
   "execution_count": 14,
   "metadata": {},
   "outputs": [
    {
     "name": "stdout",
     "output_type": "stream",
     "text": [
      "25% percentile: 10999.76109294936\n",
      "75% percentile: 693392.1947238587\n",
      "These windows scored the top 1% of anomaly metric (2837072.83101681): \n",
      "[ 943  944 1041 1130 1131 1132 1137 1284 1455 1528 1556 1565 1634 1635\n",
      " 1717 1752 1757 1758 1782]\n"
     ]
    },
    {
     "data": {
      "image/png": "[encoded data removed]",
      "text/plain": [
       "<Figure size 432x288 with 1 Axes>"
      ]
     },
     "metadata": {
      "needs_background": "light"
     },
     "output_type": "display_data"
    }
   ],
   "source": [
    "# Histogram of VAE ELBO loss - validation set\n",
    "vae_elbo_m, vae_elbo_std = plot_histogram(val_vae_elbo_loss, 100, \n",
    "                                          'VAE ELBO error distribution on the val set', \n",
    "                                          mean=None, std=None, xlim=None, name='val_ELBO', saveplot=True)"
   ]
  },
  {
   "cell_type": "code",
   "execution_count": 15,
   "metadata": {},
   "outputs": [
    {
     "name": "stdout",
     "output_type": "stream",
     "text": [
      "25% percentile: 112.4373129527705\n",
      "75% percentile: 260.61804642272676\n",
      "These windows scored the top 1% of anomaly metric (430.94378754003964): \n",
      "[  70   71   74   82  161  309  377  384  509  510  592  663  740  743\n",
      "  810  811 1559 1776]\n"
     ]
    },
    {
     "data": {
      "image/png": "[encoded data removed]",
      "text/plain": [
       "<Figure size 432x288 with 1 Axes>"
      ]
     },
     "metadata": {
      "needs_background": "light"
     },
     "output_type": "display_data"
    }
   ],
   "source": [
    "# Histogram of LSTM reconstruction error - validation set \n",
    "#  --> to decide the anomaly detection threshold\n",
    "lstm_recons_m, lstm_recons_std = plot_histogram(val_lstm_recons_error, 100,  \n",
    "                                              'LSTM reconstruction error distribution on the val set', \n",
    "                                              mean=None, std=None, xlim=None, name='LSTM reconstructed error distribution on the val set', saveplot=True)"
   ]
  },
  {
   "cell_type": "code",
   "execution_count": 16,
   "metadata": {},
   "outputs": [
    {
     "name": "stdout",
     "output_type": "stream",
     "text": [
      "All windows' reconstruction error is computed.\n",
      "The total number of windows is 14499\n"
     ]
    }
   ],
   "source": [
    "# Evaluate the anomaly metrics on the test windows and sequences\n",
    "n_test_lstm = test_seq.shape[0]\n",
    "\n",
    "test_lstm_recons_error, test_lstm_embedding_error = np.zeros(n_test_lstm), np.zeros(n_test_lstm)\n",
    "test_lstm_error_original = np.zeros((n_test_lstm,config['l_seq']-1,config['l_win']*config['n_channel'])) #them de tinh OCSVM\n",
    "for i in range(n_test_lstm):\n",
    "    test_lstm_recons_error[i], test_lstm_embedding_error[i], test_lstm_error_original[i] = evaluate_lstm_anomaly_metric_for_a_seq(test_seq[i])\n",
    "print(\"All windows' reconstruction error is computed.\")\n",
    "print(\"The total number of windows is {}\".format(len(test_lstm_recons_error)))"
   ]
  },
  {
   "cell_type": "code",
   "execution_count": 17,
   "metadata": {},
   "outputs": [
    {
     "name": "stdout",
     "output_type": "stream",
     "text": [
      "25% percentile: 134.95341001196238\n",
      "75% percentile: 313.0507880024414\n",
      "These windows scored the top 1% of anomaly metric (485.4083023486701): \n",
      "[  30   31   32   33   34   35   36   37   50   51   52   53   54   55\n",
      "   56   57   58   59   60   61   74   75   76   77   78   79   80   81\n",
      "   82   83   84   85  129  130  131  132  153  154  155  156  174  175\n",
      "  176  177  178  179  180  181  631  632  633  634  652  653  654  655\n",
      "  656  657  658  659  660  749  750  751  752  753  754  755  798  799\n",
      "  800  801  802  803  821  822  823  824  825  826  827  828  844  845\n",
      "  846  847  848  849  850  851  852 2648 2649 2650 2651 2670 2671 2672\n",
      " 2673 2674 2675 2676 2718 2719 2720 2721 2722 2723 2724 2725 2737 2738\n",
      " 2739 2740 2741 2742 2743 2744 2745 2746 2747 2748 2749 2750 2761 2762\n",
      " 2763 2764 2765 2766 2767 2768 2769 2770 2771 2772 2773 2774 2863 2864\n",
      " 2865 2866 2867 3441 3442]\n"
     ]
    },
    {
     "data": {
      "image/png": "[encoded data removed]",
      "text/plain": [
       "<Figure size 432x288 with 1 Axes>"
      ]
     },
     "metadata": {
      "needs_background": "light"
     },
     "output_type": "display_data"
    }
   ],
   "source": [
    "# Histogram of LSTM reconstruction error - test set \n",
    "#  --> to detect anomaly now\n",
    "_, _ = plot_histogram(test_lstm_recons_error, 100,\n",
    "                      'LSTM reconstruction error distribution on the test set', \n",
    "                      mean=lstm_recons_m, std=lstm_recons_std, xlim=None, saveplot=True)"
   ]
  },
  {
   "cell_type": "code",
   "execution_count": 18,
   "metadata": {},
   "outputs": [
    {
     "name": "stdout",
     "output_type": "stream",
     "text": [
      "(14499,)\n"
     ]
    }
   ],
   "source": [
    "# Produce the ground truth anomaly indices \n",
    "# if result['idx_split'][0] == 0:\n",
    "#     idx_anomaly_test = result['idx_anomaly_test']\n",
    "# else:\n",
    "#     idx_anomaly_test = result['idx_anomaly_test'][0]\n",
    "idx_anomaly_test = result['idx_anomaly_test']    \n",
    "anomaly_index_lstm = []\n",
    "test_labels_lstm = np.zeros(n_test_lstm)\n",
    "for i in range(len(idx_anomaly_test)):\n",
    "    idx_start = idx_anomaly_test[i]-(config['l_win']*config['l_seq']-1)\n",
    "    idx_end = idx_anomaly_test[i]+1\n",
    "    if idx_start < 0:\n",
    "        idx_start = 0\n",
    "    if idx_end > n_test_lstm:\n",
    "        idx_end = n_test_lstm\n",
    "    anomaly_index_lstm.append(np.arange(idx_start,idx_end))\n",
    "    test_labels_lstm[int(idx_start):int(idx_end)] = 1\n",
    "    \n",
    "print(test_labels_lstm.shape)"
   ]
  },
  {
   "cell_type": "code",
   "execution_count": 19,
   "metadata": {},
   "outputs": [],
   "source": [
    "def return_anomaly_idx_by_threshold(test_anomaly_metric, threshold):\n",
    "    test_list = np.squeeze(np.ndarray.flatten(test_anomaly_metric))\n",
    "    idx_error = np.squeeze(np.argwhere(test_anomaly_metric > threshold))\n",
    "    \n",
    "    if len(idx_error.shape) == 0:\n",
    "        idx_error = np.expand_dims(idx_error, 0)\n",
    "    \n",
    "    return list(idx_error)"
   ]
  },
  {
   "cell_type": "code",
   "execution_count": 28,
   "metadata": {},
   "outputs": [],
   "source": [
    "def augment_detected_idx(idx_detected_anomaly, anomaly_index):\n",
    "    n_anomaly = len(anomaly_index)\n",
    "    idx_detected_anomaly_extended = list(idx_detected_anomaly)\n",
    "    for i in range(n_anomaly):\n",
    "        #print(idx_detected_anomaly)\n",
    "        for j in idx_detected_anomaly:\n",
    "            if j in anomaly_index[i]:\n",
    "                in_original_detection = set(idx_detected_anomaly_extended)\n",
    "                print(\"IN_ORG: \", in_original_detection)\n",
    "                currect_anomaly_win = set(anomaly_index[i])\n",
    "                print(\"CUR_WIN: \", currect_anomaly_win)\n",
    "                print(\"EXTENDED: \", list(currect_anomaly_win - in_original_detection))\n",
    "                idx_detected_anomaly_extended = idx_detected_anomaly_extended + list(currect_anomaly_win - in_original_detection)\n",
    "                #print(j)\n",
    "                break\n",
    "    print(\"LIST: \", list(np.sort(idx_detected_anomaly_extended)))    \n",
    "                \n",
    "    return list(np.sort(idx_detected_anomaly_extended))"
   ]
  },
  {
   "cell_type": "code",
   "execution_count": 29,
   "metadata": {},
   "outputs": [],
   "source": [
    "def count_TP_FP_FN(idx_detected_anomaly, anomaly_index, test_labels):\n",
    "    n_TP = 0\n",
    "    n_FP = 0\n",
    "    n_detection = len(idx_detected_anomaly)\n",
    "    for i in range(n_detection):\n",
    "        if test_labels[idx_detected_anomaly[i]] == 1:\n",
    "            n_TP = n_TP + 1\n",
    "        else:\n",
    "            n_FP = n_FP + 1 #both branch the same?\n",
    "    \n",
    "    idx_undetected = list(set(np.arange(len(test_labels)))- set(idx_detected_anomaly))\n",
    "    n_FN = 0\n",
    "    for i in idx_undetected:\n",
    "        if test_labels[i] == 1:\n",
    "            n_FN = n_FN + 1\n",
    "    \n",
    "    return n_TP, n_FP, n_FN"
   ]
  },
  {
   "cell_type": "code",
   "execution_count": 30,
   "metadata": {},
   "outputs": [],
   "source": [
    "def compute_precision_and_recall(idx_detected_anomaly, anomaly_index, test_labels):\n",
    "    # compute true positive\n",
    "    n_TP, n_FP, n_FN = count_TP_FP_FN(idx_detected_anomaly, anomaly_index, test_labels)\n",
    "    \n",
    "    if n_TP + n_FP == 0:\n",
    "        precision = 1\n",
    "    else:\n",
    "        precision = n_TP / (n_TP + n_FP)\n",
    "    recall = n_TP / (n_TP + n_FN)\n",
    "    if precision + recall == 0:\n",
    "        F1 = 0\n",
    "    else:\n",
    "        F1 = 2* (precision * recall)/(precision + recall)\n",
    "    \n",
    "    return precision, recall, F1, n_TP, n_FP, n_FN"
   ]
  },
  {
   "cell_type": "code",
   "execution_count": null,
   "metadata": {},
   "outputs": [],
   "source": [
    "n_threshold = 25\n",
    "precision = np.zeros(n_threshold)\n",
    "recall = np.zeros(n_threshold)\n",
    "F1 = np.zeros(n_threshold)\n",
    "precision_aug = np.zeros(n_threshold)\n",
    "recall_aug = np.zeros(n_threshold)\n",
    "F1_aug = np.zeros(n_threshold)\n",
    "i = 0\n",
    "threshold_list = np.linspace(np.amin(test_lstm_recons_error), np.amax(test_lstm_recons_error), n_threshold, endpoint=True)\n",
    "threshold_list = np.flip(threshold_list)\n",
    "for threshold in threshold_list:\n",
    "    #print(threshold_list[i])\n",
    "    idx_detection_lstm = return_anomaly_idx_by_threshold(test_lstm_recons_error, threshold)\n",
    "    precision[i], recall[i], F1[i], _, _, _ = compute_precision_and_recall(idx_detection_lstm, \n",
    "                                                                           anomaly_index_lstm, \n",
    "                                                                           test_labels_lstm)\n",
    "    # augment the detection using the ground truth labels\n",
    "    # a method to discount the factor one anomaly appears in multiple consecutive windows\n",
    "    # introduced in \"Unsupervised anomaly detection via variational auto-encoder for seasonal kpis in web applications\"\n",
    "    idx_detection_lstm_augmented = augment_detected_idx(idx_detection_lstm, anomaly_index_lstm)\n",
    "    precision_aug[i], recall_aug[i], F1_aug[i], _, _, _ = compute_precision_and_recall(idx_detection_lstm_augmented, \n",
    "                                                                                       anomaly_index_lstm, \n",
    "                                                                                       test_labels_lstm)\n",
    "    i = i + 1\n",
    "    break\n",
    "    #print(precision, recall, F1)"
   ]
  },
  {
   "cell_type": "code",
   "execution_count": 62,
   "metadata": {},
   "outputs": [
    {
     "name": "stdout",
     "output_type": "stream",
     "text": [
      "Best F1 score is 0.48073959938366717\n",
      "Best threshold is 1545.6710125509237\n",
      "At this threshold, precision is 0.9017341040462428, recall is 0.3277310924369748\n",
      "Average precision is 0.5027754801647734\n",
      "\n",
      "Augmented detection:\n",
      "Best F1 score is 1.0\n",
      "Best threshold is [4170.7474193  3932.10410959 3693.46079989 3454.81749018 3216.17418048\n",
      " 2977.53087078 2738.88756107 2500.24425137 2261.60094166 2022.95763196\n",
      " 1784.31432226]\n",
      "At this threshold, precision is [1. 1. 1. 1. 1. 1. 1. 1. 1. 1. 1.], recall is [1. 1. 1. 1. 1. 1. 1. 1. 1. 1. 1.]\n",
      "Average precision is 1.0\n"
     ]
    }
   ],
   "source": [
    "print(\"Best F1 score is {}\".format(np.amax(F1)))\n",
    "idx_best_threshold = np.squeeze(np.argwhere(F1 == np.amax(F1)))\n",
    "print(\"Best threshold is {}\".format(threshold_list[idx_best_threshold]))\n",
    "print(\"At this threshold, precision is {}, recall is {}\".format(precision[idx_best_threshold], recall[idx_best_threshold]))\n",
    "average_precision = np.sum(precision[1:] * (recall[1:] - recall[:-1]))\n",
    "print(\"Average precision is {}\".format(average_precision))\n",
    "\n",
    "print(\"\\nAugmented detection:\")\n",
    "print(\"Best F1 score is {}\".format(np.amax(F1_aug)))\n",
    "idx_best_threshold = np.squeeze(np.argwhere(F1_aug == np.amax(F1_aug)))\n",
    "print(\"Best threshold is {}\".format(threshold_list[idx_best_threshold]))\n",
    "print(\"At this threshold, precision is {}, recall is {}\".format(precision_aug[idx_best_threshold], \n",
    "                                                                recall_aug[idx_best_threshold]))\n",
    "\n",
    "average_precision_aug = np.sum(precision_aug[1:] * (recall_aug[1:] - recall_aug[:-1]))\n",
    "print(\"Average precision is {}\".format(average_precision_aug))"
   ]
  },
  {
   "cell_type": "code",
   "execution_count": 63,
   "metadata": {},
   "outputs": [
    {
     "name": "stdout",
     "output_type": "stream",
     "text": [
      "Threshold is 1545.6710125509237\n",
      "\n",
      "PR evaluation using augmented detection:\n",
      "Precision: 0.9655172413793104\n",
      "Recall: 1.0\n",
      "F1: 0.9824561403508771\n",
      "TP: 476\n",
      "FP: 17\n",
      "FN: 0\n"
     ]
    }
   ],
   "source": [
    "# Now select a threshold\n",
    "threshold = 1545.6710125509237\n",
    "print(\"Threshold is {}\".format(threshold))\n",
    "idx_detection = return_anomaly_idx_by_threshold(test_lstm_recons_error, threshold)\n",
    "idx_detection_augmented = augment_detected_idx(idx_detection, anomaly_index_lstm)\n",
    "precision, recall, F1, n_TP, n_FP, n_FN = compute_precision_and_recall(idx_detection_augmented, \n",
    "                                                                       anomaly_index_lstm, \n",
    "                                                                       test_labels_lstm)\n",
    "print(\"\\nPR evaluation using augmented detection:\")\n",
    "print(\"Precision: {}\".format(precision))\n",
    "print(\"Recall: {}\".format(recall))\n",
    "print(\"F1: {}\".format(F1))\n",
    "print(\"TP: {}\".format(n_TP))\n",
    "print(\"FP: {}\".format(n_FP))\n",
    "print(\"FN: {}\".format(n_FN))"
   ]
  },
  {
   "cell_type": "code",
   "execution_count": 64,
   "metadata": {},
   "outputs": [],
   "source": [
    "def slice_detected_indices_into_seq(idx_detection, interval):\n",
    "    detected_seq = []\n",
    "    i = 0\n",
    "    while i < len(idx_detection):\n",
    "        if i == 0:\n",
    "            cur_seq = [idx_detection[i]]\n",
    "            i = i + 1\n",
    "        else:\n",
    "            if idx_detection[i] - idx_detection[i-1] > interval:\n",
    "                detected_seq.append(cur_seq)\n",
    "                cur_seq = [idx_detection[i]]\n",
    "            else:\n",
    "                cur_seq.append(idx_detection[i])\n",
    "                if i == len(idx_detection) - 1:\n",
    "                    detected_seq.append(cur_seq)\n",
    "            i = i + 1\n",
    "    \n",
    "    print(\"Detected {} sequences\".format(len(detected_seq)))\n",
    "    return detected_seq"
   ]
  },
  {
   "cell_type": "code",
   "execution_count": 65,
   "metadata": {},
   "outputs": [],
   "source": [
    "def plot_detected_anomalies(idx_detection, interval, dataset, result, detection_method, augmented_flag=1, y_scale=5, y_lim=None):\n",
    "    detected_seq = slice_detected_indices_into_seq(idx_detection, interval=interval)\n",
    "    t_test = result['t_test']\n",
    "    test = result['test']\n",
    "    idx_anomaly_test = result['idx_anomaly_test']\n",
    "        \n",
    "    # plot detected sequences\n",
    "    fig, axs = plt.subplots(1, 1, figsize=(18, 5), edgecolor='k')\n",
    "    fig.subplots_adjust(hspace=.4, wspace=.4)\n",
    "    axs.plot(t_test, test)\n",
    "    for j in range(len(idx_anomaly_test)):\n",
    "        if j == 0:\n",
    "            axs.plot(idx_anomaly_test[j] * np.ones(20), np.linspace(-y_scale, y_scale, 20), 'r--', label='true anomalies')\n",
    "        else:\n",
    "            axs.plot(idx_anomaly_test[j] * np.ones(20), np.linspace(-y_scale, y_scale, 20), 'r--')\n",
    "        \n",
    "    for i in range(len(detected_seq)):\n",
    "        for j in detected_seq[i]:\n",
    "            if j == detected_seq[0][0]:\n",
    "                axs.plot((j+interval*2) * np.ones(20), np.linspace(-y_scale, -0.8*y_scale, 20), 'g-', label='detected anomalies')\n",
    "            else:\n",
    "                axs.plot((j+interval*2) * np.ones(20), np.linspace(-y_scale, -0.8*y_scale, 20), 'g-')\n",
    "    \n",
    "    for j in range(len(idx_anomaly_test)):\n",
    "        axs.plot(idx_anomaly_test[j] * np.ones(20), np.linspace(-y_scale, y_scale, 20), 'r--')\n",
    "\n",
    "    for i in range(len(detected_seq)):\n",
    "        interval_x = np.asarray([detected_seq[i][0], detected_seq[i][-1]+interval*2])\n",
    "        interval_y = np.asarray([y_scale,y_scale])\n",
    "        if i == 0:\n",
    "            axs.fill_between(interval_x, interval_y, alpha=0.2, color='y', label='detected anomaly windows')\n",
    "        else:\n",
    "            axs.fill_between(interval_x, interval_y, alpha=0.2, color='y')\n",
    "        interval_y = np.asarray([-y_scale,-y_scale])\n",
    "        axs.fill_between(interval_x, interval_y, alpha=0.2, color='y')\n",
    "    axs.grid(True)\n",
    "    axs.set_xlim(0, len(t_test))\n",
    "    if y_lim is None:\n",
    "        axs.set_ylim(-y_scale, y_scale)\n",
    "    else:\n",
    "        axs.set_ylim(-y_scale, y_lim)\n",
    "    axs.set_xlabel(\"timestamp\")\n",
    "    axs.set_ylabel(\"normalised readings\")\n",
    "    axs.set_title(\"{} dataset test sequence\\n(normalised by train mean {:.4f} and std {:.4f})\\n Detection method: {}\".format(dataset, \n",
    "                                                                                        result['train_m'][0], \n",
    "                                                                                        result['train_std'][0],\n",
    "                                                                                        detection_method))\n",
    "    axs.legend()\n",
    "    savefig(config['result_dir']+'detected_anomalies_{}_aug_{}_{}.png'.format(detection_method, augmented_flag, config['dataset']))"
   ]
  },
  {
   "cell_type": "code",
   "execution_count": 66,
   "metadata": {},
   "outputs": [
    {
     "name": "stdout",
     "output_type": "stream",
     "text": [
      "Detected 2 sequences\n"
     ]
    },
    {
     "data": {
      "image/png": "[encoded data removed]",
      "text/plain": [
       "<Figure size 1296x360 with 1 Axes>"
      ]
     },
     "metadata": {
      "needs_background": "light"
     },
     "output_type": "display_data"
    }
   ],
   "source": [
    "plot_detected_anomalies(idx_detection_augmented, \n",
    "                        interval=config['l_win']*config['l_seq']/2, \n",
    "                        dataset=dataset, \n",
    "                        result=result, \n",
    "                        detection_method='lstm reconstruction error',\n",
    "                        augmented_flag=1,\n",
    "                        y_scale=5,\n",
    "                        y_lim=5)"
   ]
  },
  {
   "cell_type": "code",
   "execution_count": 67,
   "metadata": {},
   "outputs": [
    {
     "name": "stdout",
     "output_type": "stream",
     "text": [
      "OSCVM recons abs: \n",
      "Precision :  0.25\n",
      "Recall:  0.9537815126050421\n",
      "F1_score:  0.3961605584642234\n",
      "Accuracy :  0.2967479674796748\n"
     ]
    }
   ],
   "source": [
    "from sklearn.metrics import precision_recall_curve\n",
    "from sklearn.metrics import precision_score\n",
    "from sklearn.metrics import recall_score\n",
    "from sklearn.metrics import f1_score\n",
    "from sklearn.metrics import accuracy_score\n",
    "\n",
    "#X_train =\n",
    "#predicted_train =\n",
    "#X_test = \n",
    "#predicted = \n",
    "y_test1 = np.where(test_labels_lstm==1,-1,1) #doi lai label\n",
    "\n",
    "#OCSVM\n",
    "#e=X_train - predicted_train\n",
    "#e = val_lstm_error_original\n",
    "e = train_lstm_error_original\n",
    "nsamples, nx, ny = e.shape\n",
    "d2_e = e.reshape((nsamples,nx*ny))\n",
    "\n",
    "nu = 0.5 #0.0055\n",
    "gamma = 'auto' #1.5\n",
    "from sklearn import svm\n",
    "clf = svm.OneClassSVM(nu=nu, kernel=\"rbf\", gamma=gamma)\n",
    "clf.fit(d2_e)\n",
    "\n",
    "#e_t=X_test - predicted\n",
    "e_t = test_lstm_error_original\n",
    "nsamples, nx, ny = e_t.shape\n",
    "\n",
    "d2_e_t = e_t.reshape((nsamples,nx*ny))\n",
    "y_scores = clf.predict(d2_e_t)\n",
    "\n",
    "precision = precision_score(y_test1, y_scores, pos_label=-1)\n",
    "recall    = recall_score(y_test1, y_scores, pos_label=-1)\n",
    "accuracy = accuracy_score(y_test1, y_scores)\n",
    "f1 = f1_score(y_test1, y_scores, pos_label=-1)\n",
    "print ('OSCVM recons abs: ')\n",
    "print ('Precision : ', precision)\n",
    "print ('Recall: ', recall)\n",
    "print ('F1_score: ', f1)\n",
    "print ('Accuracy : ', accuracy)\n"
   ]
  },
  {
   "cell_type": "code",
   "execution_count": null,
   "metadata": {},
   "outputs": [],
   "source": []
  },
  {
   "cell_type": "code",
   "execution_count": null,
   "metadata": {},
   "outputs": [],
   "source": []
  },
  {
   "cell_type": "code",
   "execution_count": null,
   "metadata": {},
   "outputs": [],
   "source": []
  }
 ],
 "metadata": {
  "kernelspec": {
   "display_name": "Python 3",
   "language": "python",
   "name": "python3"
  },
  "language_info": {
   "codemirror_mode": {
    "name": "ipython",
    "version": 3
   },
   "file_extension": ".py",
   "mimetype": "text/x-python",
   "name": "python",
   "nbconvert_exporter": "python",
   "pygments_lexer": "ipython3",
   "version": "3.7.9"
  }
 },
 "nbformat": 4,
 "nbformat_minor": 2
}
