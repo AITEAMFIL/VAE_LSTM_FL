{
 "cells": [
  {
   "cell_type": "code",
   "execution_count": 2,
   "metadata": {},
   "outputs": [],
   "source": [
    "import warnings\n",
    "\n",
    "def fxn():\n",
    "    warnings.warn(\"deprecated\", DeprecationWarning)\n",
    "\n",
    "with warnings.catch_warnings():\n",
    "    warnings.simplefilter(\"ignore\")\n",
    "    fxn()"
   ]
  },
  {
   "cell_type": "code",
   "execution_count": 3,
   "metadata": {},
   "outputs": [],
   "source": [
    "import tensorflow as tf\n",
    "import tensorflow_probability as tfp\n",
    "import numpy as np\n",
    "import matplotlib.pylab as plt\n",
    "from matplotlib.pyplot import plot, ion, show, savefig, cla, figure\n",
    "import random\n",
    "import time"
   ]
  },
  {
   "cell_type": "code",
   "execution_count": 4,
   "metadata": {},
   "outputs": [],
   "source": [
    "import os\n",
    "os.environ[\"CUDA_DEVICE_ORDER\"]=\"PCI_BUS_ID\"   # see issue #152\n",
    "os.environ[\"CUDA_VISIBLE_DEVICES\"]=\"0\"\n",
    "\n",
    "import tensorflow as tf\n",
    "from data_loader import DataGenerator\n",
    "from models import VAEmodel, lstmKerasModel\n",
    "from trainers import vaeTrainer\n",
    "\n",
    "from utils import process_config, create_dirs, get_args"
   ]
  },
  {
   "cell_type": "code",
   "execution_count": 5,
   "metadata": {},
   "outputs": [
    {
     "name": "stdout",
     "output_type": "stream",
     "text": [
      "[]\n"
     ]
    }
   ],
   "source": [
    "from tensorflow.python.client import device_lib\n",
    "\n",
    "def get_available_gpus():\n",
    "    local_device_protos = device_lib.list_local_devices()\n",
    "    return [x.name for x in local_device_protos if x.device_type == 'GPU']\n",
    "\n",
    "print(get_available_gpus())"
   ]
  },
  {
   "cell_type": "code",
   "execution_count": 6,
   "metadata": {},
   "outputs": [
    {
     "name": "stdout",
     "output_type": "stream",
     "text": [
      "Device mapping:\n",
      "/job:localhost/replica:0/task:0/device:XLA_CPU:0 -> device: XLA_CPU device\n",
      "/job:localhost/replica:0/task:0/device:XLA_GPU:0 -> device: XLA_GPU device\n",
      "\n",
      "SCADA\n",
      "SCADA\n",
      "SCADA\n",
      "SCADA\n",
      "WARNING:tensorflow:From /home/quang/Documents/FIL/VAE_fully_connected/codes/base.py:67: The name tf.variable_scope is deprecated. Please use tf.compat.v1.variable_scope instead.\n",
      "\n",
      "WARNING:tensorflow:From /home/quang/Documents/FIL/VAE_fully_connected/codes/base.py:69: The name tf.assign is deprecated. Please use tf.compat.v1.assign instead.\n",
      "\n",
      "WARNING:tensorflow:From /home/quang/Documents/FIL/VAE_fully_connected/codes/models.py:25: The name tf.placeholder is deprecated. Please use tf.compat.v1.placeholder instead.\n",
      "\n",
      "WARNING:tensorflow:From /home/quang/anaconda3/envs/VAE/lib/python3.7/site-packages/tensorflow_core/python/data/util/random_seed.py:58: where (from tensorflow.python.ops.array_ops) is deprecated and will be removed in a future version.\n",
      "Instructions for updating:\n",
      "Use tf.where in 2.0, which has the same broadcast rule as np.where\n",
      "WARNING:tensorflow:From /home/quang/Documents/FIL/VAE_fully_connected/codes/models.py:31: DatasetV1.make_initializable_iterator (from tensorflow.python.data.ops.dataset_ops) is deprecated and will be removed in a future version.\n",
      "Instructions for updating:\n",
      "Use `for ... in dataset:` to iterate over a dataset. If using `tf.estimator`, return the `Dataset` object directly from your input function. As a last resort, you can use `tf.compat.v1.data.make_initializable_iterator(dataset)`.\n",
      "WARNING:tensorflow:\n",
      "The TensorFlow contrib module will not be included in TensorFlow 2.0.\n",
      "For more information, please see:\n",
      "  * https://github.com/tensorflow/community/blob/master/rfcs/20180907-contrib-sunset.md\n",
      "  * https://github.com/tensorflow/addons\n",
      "  * https://github.com/tensorflow/io (for I/O related ops)\n",
      "If you depend on functionality not listed there, please file an issue.\n",
      "\n",
      "WARNING:tensorflow:From /home/quang/Documents/FIL/VAE_fully_connected/codes/models.py:49: dense (from tensorflow.python.layers.core) is deprecated and will be removed in a future version.\n",
      "Instructions for updating:\n",
      "Use keras.layers.Dense instead.\n",
      "WARNING:tensorflow:From /home/quang/anaconda3/envs/VAE/lib/python3.7/site-packages/tensorflow_core/python/layers/core.py:187: Layer.apply (from tensorflow.python.keras.engine.base_layer) is deprecated and will be removed in a future version.\n",
      "Instructions for updating:\n",
      "Please use `layer.__call__` method instead.\n",
      "conv_1: Tensor(\"encoder_Global/dense/LeakyRelu:0\", shape=(?, 24, 16, 160), dtype=float32)\n",
      "WARNING:tensorflow:From /home/quang/Documents/FIL/VAE_fully_connected/codes/models.py:53: flatten (from tensorflow.python.layers.core) is deprecated and will be removed in a future version.\n",
      "Instructions for updating:\n",
      "Use keras.layers.flatten instead.\n",
      "finish encoder: \n",
      "Tensor(\"encoder_Global/Add_1:0\", shape=(?, 6), dtype=float32)\n",
      "\n",
      "\n",
      "decoded is: Tensor(\"decoder_Global/dense_2/BiasAdd:0\", shape=(?, 384), dtype=float32)\n",
      "finish decoder: \n",
      "Tensor(\"decoder_Global/Reshape:0\", shape=(?, 24, 16), dtype=float32)\n",
      "\n",
      "\n",
      "sigma2: \n",
      "Tensor(\"sigma2_dataset_Global/Square:0\", shape=(), dtype=float32)\n",
      "\n",
      "WARNING:tensorflow:From /home/quang/Documents/FIL/VAE_fully_connected/codes/base.py:78: The name tf.log is deprecated. Please use tf.math.log instead.\n",
      "\n",
      "KL_loss shape2 ()\n",
      "recon_error shape ()\n",
      "ls_recon shape ()\n",
      "sigma_regu shape ()\n",
      "two_pi shape ()\n",
      "elbo loss shape []\n",
      "WARNING:tensorflow:From /home/quang/Documents/FIL/VAE_fully_connected/codes/base.py:111: The name tf.get_collection is deprecated. Please use tf.compat.v1.get_collection instead.\n",
      "\n",
      "WARNING:tensorflow:From /home/quang/Documents/FIL/VAE_fully_connected/codes/base.py:111: The name tf.GraphKeys is deprecated. Please use tf.compat.v1.GraphKeys instead.\n",
      "\n",
      "WARNING:tensorflow:From /home/quang/Documents/FIL/VAE_fully_connected/codes/utils.py:79: The name tf.trainable_variables is deprecated. Please use tf.compat.v1.trainable_variables instead.\n",
      "\n",
      "The total number of trainable parameters in the encoder_Global model is: 1475204\n",
      "The total number of trainable parameters in the decoder_Global model is: 65992\n",
      "The total number of trainable parameters in the sigma2_dataset_Global model is: 0\n",
      "Total number of trainable parameters in the VAE network of Global is: 1541196\n",
      "WARNING:tensorflow:From /home/quang/Documents/FIL/VAE_fully_connected/codes/base.py:124: The name tf.train.AdamOptimizer is deprecated. Please use tf.compat.v1.train.AdamOptimizer instead.\n",
      "\n",
      "gvs for dataset: [(<tf.Tensor 'gradients/encoder_Global/dense/Tensordot/transpose_1_grad/transpose:0' shape=(1, 160) dtype=float32>, <tf.Variable 'encoder_Global/dense/kernel:0' shape=(1, 160) dtype=float32_ref>), (<tf.Tensor 'gradients/encoder_Global/dense/BiasAdd_grad/tuple/control_dependency_1:0' shape=(160,) dtype=float32>, <tf.Variable 'encoder_Global/dense/bias:0' shape=(160,) dtype=float32_ref>), (<tf.Tensor 'gradients/encoder_Global/dense_1/MatMul_grad/tuple/control_dependency_1:0' shape=(61440, 24) dtype=float32>, <tf.Variable 'encoder_Global/dense_1/kernel:0' shape=(61440, 24) dtype=float32_ref>), (<tf.Tensor 'gradients/encoder_Global/dense_1/BiasAdd_grad/tuple/control_dependency_1:0' shape=(24,) dtype=float32>, <tf.Variable 'encoder_Global/dense_1/bias:0' shape=(24,) dtype=float32_ref>), (<tf.Tensor 'gradients/encoder_Global/code_mean/MatMul_grad/tuple/control_dependency_1:0' shape=(24, 6) dtype=float32>, <tf.Variable 'encoder_Global/code_mean/kernel:0' shape=(24, 6) dtype=float32_ref>), (<tf.Tensor 'gradients/encoder_Global/code_mean/BiasAdd_grad/tuple/control_dependency_1:0' shape=(6,) dtype=float32>, <tf.Variable 'encoder_Global/code_mean/bias:0' shape=(6,) dtype=float32_ref>), (<tf.Tensor 'gradients/encoder_Global/code_std_dev/MatMul_grad/tuple/control_dependency_1:0' shape=(24, 6) dtype=float32>, <tf.Variable 'encoder_Global/code_std_dev/kernel:0' shape=(24, 6) dtype=float32_ref>), (<tf.Tensor 'gradients/encoder_Global/code_std_dev/BiasAdd_grad/tuple/control_dependency_1:0' shape=(6,) dtype=float32>, <tf.Variable 'encoder_Global/code_std_dev/bias:0' shape=(6,) dtype=float32_ref>), (<tf.Tensor 'gradients/decoder_Global/dense/MatMul_grad/tuple/control_dependency_1:0' shape=(6, 24) dtype=float32>, <tf.Variable 'decoder_Global/dense/kernel:0' shape=(6, 24) dtype=float32_ref>), (<tf.Tensor 'gradients/decoder_Global/dense/BiasAdd_grad/tuple/control_dependency_1:0' shape=(24,) dtype=float32>, <tf.Variable 'decoder_Global/dense/bias:0' shape=(24,) dtype=float32_ref>), (<tf.Tensor 'gradients/decoder_Global/dense_1/MatMul_grad/tuple/control_dependency_1:0' shape=(24, 160) dtype=float32>, <tf.Variable 'decoder_Global/dense_1/kernel:0' shape=(24, 160) dtype=float32_ref>), (<tf.Tensor 'gradients/decoder_Global/dense_1/BiasAdd_grad/tuple/control_dependency_1:0' shape=(160,) dtype=float32>, <tf.Variable 'decoder_Global/dense_1/bias:0' shape=(160,) dtype=float32_ref>), (<tf.Tensor 'gradients/decoder_Global/dense_2/MatMul_grad/tuple/control_dependency_1:0' shape=(160, 384) dtype=float32>, <tf.Variable 'decoder_Global/dense_2/kernel:0' shape=(160, 384) dtype=float32_ref>), (<tf.Tensor 'gradients/decoder_Global/dense_2/BiasAdd_grad/tuple/control_dependency_1:0' shape=(384,) dtype=float32>, <tf.Variable 'decoder_Global/dense_2/bias:0' shape=(384,) dtype=float32_ref>)]\n",
      "Reach the definition of loss for VAE\n",
      "WARNING:tensorflow:From /home/quang/Documents/FIL/VAE_fully_connected/codes/base.py:140: The name tf.train.Saver is deprecated. Please use tf.compat.v1.train.Saver instead.\n",
      "\n",
      "WARNING:tensorflow:From /home/quang/Documents/FIL/VAE_fully_connected/codes/base.py:149: The name tf.global_variables_initializer is deprecated. Please use tf.compat.v1.global_variables_initializer instead.\n",
      "\n",
      "WARNING:tensorflow:From /home/quang/Documents/FIL/VAE_fully_connected/codes/base.py:150: The name tf.local_variables_initializer is deprecated. Please use tf.compat.v1.local_variables_initializer instead.\n",
      "\n",
      "checkpoint_dir at loading: ../experiments/local-results/SCADA1/scada1/batch-32/SCADA1-scada1-24-12-6-fixedSigma-0.1/checkpoint/Global\n",
      "Loading model checkpoint ../experiments/local-results/SCADA1/scada1/batch-32/SCADA1-scada1-24-12-6-fixedSigma-0.1/checkpoint/Global/-0 ...\n",
      "\n",
      "INFO:tensorflow:Restoring parameters from ../experiments/local-results/SCADA1/scada1/batch-32/SCADA1-scada1-24-12-6-fixedSigma-0.1/checkpoint/Global/-0\n"
     ]
    },
    {
     "name": "stdout",
     "output_type": "stream",
     "text": [
      "Model loaded.\n"
     ]
    }
   ],
   "source": [
    "# load VAE model\n",
    "config = process_config('NAB_config_scada1.json')#('NAB_config_centralized.json')\n",
    "# create the experiments dirs\n",
    "create_dirs([config['result_dir'], config['checkpoint_dir']])\n",
    "# create tensorflow session\n",
    "sess = tf.Session(config=tf.ConfigProto(log_device_placement=True))\n",
    "# create your data generator\n",
    "\n",
    "data = DataGenerator(config)\n",
    "# create a CNN model\n",
    "model_vae = VAEmodel(config, \"Global\")\n",
    "# create a CNN model\n",
    "trainer_vae = vaeTrainer(sess, model_vae, data, config)\n",
    "model_vae.load(sess)"
   ]
  },
  {
   "cell_type": "code",
   "execution_count": 6,
   "metadata": {},
   "outputs": [
    {
     "name": "stdout",
     "output_type": "stream",
     "text": [
      "dict_keys(['config', 'n_train_vae', 'n_val_vae', 'train_set_vae', 'val_set_vae', 'test_set_vae', 'n_train_lstm', 'n_val_lstm', 'train_set_lstm', 'val_set_lstm'])\n",
      "n_train_vae 11312\n",
      "n_val_vae 1257\n",
      "n_train_lstm 11074\n",
      "n_val_lstm 1231\n",
      "train_set_vae (11312, 24, 1)\n",
      "val_set_vae (1257, 24, 1)\n",
      "test_set_vae (32, 24, 1)\n",
      "train_set_lstm (11074, 12, 24, 1)\n",
      "val_set_lstm (1231, 12, 24, 1)\n"
     ]
    }
   ],
   "source": [
    "print(data.__dict__.keys())\n",
    "for i in data.__dict__.keys():\n",
    "    if (i not in ['config','train_set_vae','val_set_vae','test_set_vae','train_set_lstm', 'val_set_lstm']):\n",
    "        print(i ,getattr(data,i))\n",
    "for i in  ['train_set_vae','val_set_vae','test_set_vae','train_set_lstm', 'val_set_lstm']:\n",
    "    print(i ,(getattr(data,i)['data']).shape)\n",
    "\n",
    "\n"
   ]
  },
  {
   "cell_type": "code",
   "execution_count": 7,
   "metadata": {},
   "outputs": [
    {
     "data": {
      "text/plain": [
       "'nprs44'"
      ]
     },
     "execution_count": 7,
     "metadata": {},
     "output_type": "execute_result"
    }
   ],
   "source": [
    "config['dataset']"
   ]
  },
  {
   "cell_type": "code",
   "execution_count": 7,
   "metadata": {
    "scrolled": true
   },
   "outputs": [
    {
     "name": "stdout",
     "output_type": "stream",
     "text": [
      "lstm input: (?, 11, 6)\n",
      "WARNING:tensorflow:From /home/quang/anaconda3/envs/VAE/lib/python3.7/site-packages/tensorflow_core/python/ops/resource_variable_ops.py:1630: calling BaseResourceVariable.__init__ (from tensorflow.python.ops.resource_variable_ops) with constraint is deprecated and will be removed in a future version.\n",
      "Instructions for updating:\n",
      "If using Keras pass *_constraint arguments to layers.\n",
      "Finish processing the embeddings of the entire dataset of Global.\n",
      "lstm input: (?, 11, 6)\n",
      "Model: \"model_1\"\n",
      "_________________________________________________________________\n",
      "Layer (type)                 Output Shape              Param #   \n",
      "=================================================================\n",
      "input_2 (InputLayer)         [(None, 11, 6)]           0         \n",
      "_________________________________________________________________\n",
      "lstm_3 (LSTM)                (None, 11, 64)            18176     \n",
      "_________________________________________________________________\n",
      "lstm_4 (LSTM)                (None, 11, 64)            33024     \n",
      "_________________________________________________________________\n",
      "lstm_5 (LSTM)                (None, 11, 6)             1704      \n",
      "=================================================================\n",
      "Total params: 52,904\n",
      "Trainable params: 52,904\n",
      "Non-trainable params: 0\n",
      "_________________________________________________________________\n",
      "../experiments/local-results/SCADA1/scada1/batch-32/SCADA1-scada1-24-12-6-fixedSigma-0.1/checkpoint/lstm/checkpoint\n",
      "LSTM model loaded.\n"
     ]
    }
   ],
   "source": [
    "# load LSTM model\n",
    "lstm_model = lstmKerasModel(\"Global\", config)\n",
    "lstm_model.produce_embeddings(model_vae, data, sess)\n",
    "lstm_nn_model = lstm_model.create_lstm_model()\n",
    "lstm_nn_model.summary()   # Display the model's architecture\n",
    "\n",
    "# checkpoint path\n",
    "checkpoint_path = config['checkpoint_dir_lstm'] + \"cp_Global.ckpt\"\n",
    "checkpoint_dir = os.path.dirname(checkpoint_path)\n",
    "# Create a callback that saves the model's weights\n",
    "cp_callback = tf.keras.callbacks.ModelCheckpoint(filepath=checkpoint_path,\n",
    "                                                 save_weights_only=True,\n",
    "                                                 verbose=1)\n",
    "# load weights if possible\n",
    "lstm_model.load_model(lstm_nn_model, checkpoint_path)"
   ]
  },
  {
   "cell_type": "code",
   "execution_count": 7,
   "metadata": {},
   "outputs": [
    {
     "name": "stdout",
     "output_type": "stream",
     "text": [
      "The given sequence has 14786 samples\n",
      "test_windows  (14763, 24, 1)\n",
      "test_seq  (14499, 12, 24, 1)\n"
     ]
    }
   ],
   "source": [
    "# load normalised time series\n",
    "save_dir = '../datasets/NAB-known-anomaly/'\n",
    "# config['dataset'] = 'ecg_8'\n",
    "dataset = config['dataset']\n",
    "filename = '{}.npz'.format(dataset)\n",
    "result = dict(np.load(save_dir+filename, allow_pickle=True))\n",
    "if dataset == 'machine_temp':\n",
    "    result['test'] = result['test'][0]\n",
    "    result['idx_anomaly_test'] = result['idx_anomaly_test'][0]\n",
    "    result['t_test'] = result['t_test'][0]\n",
    "\n",
    "# slice into rolling windows and rolling sequences\n",
    "# slice into rolling windows and rolling sequences\n",
    "def slice_rolling_windows_and_sequences(config, time_seq):\n",
    "    n_sample = len(time_seq)\n",
    "    time_seq = np.reshape(time_seq,(-1,config['n_channel']))\n",
    "    print(\"The given sequence has {} samples\".format(n_sample))\n",
    "    n_vae_win = n_sample - config['l_win'] + 1\n",
    "    rolling_windows = np.zeros((n_vae_win, config['l_win'], config['n_channel']))\n",
    "    for i in range(n_vae_win):\n",
    "        rolling_windows[i] = time_seq[i:i + config['l_win']]\n",
    "        sample_m = np.mean(rolling_windows, axis=1)\n",
    "        sample_std = np.std(rolling_windows, axis=1)\n",
    "\n",
    "        n_lstm_seq = n_sample - config['l_seq']*config['l_win']+1\n",
    "        lstm_seq = np.zeros((n_lstm_seq, config['l_seq'], config['l_win'], config['n_channel']))\n",
    "    for i in range(n_lstm_seq):\n",
    "        cur_seq = time_seq[i:i+config['l_seq']*config['l_win']]\n",
    "        for j in range(config['l_seq']):\n",
    "            lstm_seq[i,j] = cur_seq[config['l_win']*j:config['l_win']*(j+1)]\n",
    "    \n",
    "    return rolling_windows, lstm_seq, sample_m, sample_std\n",
    "\n",
    "test_windows, test_seq, test_sample_m, test_sample_std = slice_rolling_windows_and_sequences(config, result['test'])\n",
    "test_windows = np.reshape(test_windows, (-1,config['l_win'],config['n_channel']))\n",
    "test_seq = np.reshape(test_seq, (-1,config['l_seq'],config['l_win'],config['n_channel']))\n",
    "print('test_windows ',test_windows.shape)\n",
    "print('test_seq ',test_seq.shape)"
   ]
  },
  {
   "cell_type": "code",
   "execution_count": 68,
   "metadata": {},
   "outputs": [
    {
     "data": {
      "text/plain": [
       "{'readings': array([[-0.078, -0.062],\n",
       "        [-0.081, -0.062],\n",
       "        [-0.088, -0.062],\n",
       "        ...,\n",
       "        [-0.341,  0.055],\n",
       "        [-0.304,  0.047],\n",
       "        [-0.287,  0.036]]),\n",
       " 'idx_anomaly': array([2291, 2292, 2293, 2294, 2295, 2296, 2297, 2298, 2299, 2300, 2301,\n",
       "        2302, 2303, 2304, 2305, 2306, 2307, 2308, 2309, 2310, 2311, 2312,\n",
       "        2313, 2314, 2315, 2316, 2317, 2318, 2319, 2320, 2321, 2322, 2323,\n",
       "        2324, 2325, 2326, 2327, 2328, 2329, 2330, 2331, 2332, 2333, 2334,\n",
       "        2335, 2336, 2337, 2338, 2339, 2340, 2341, 2342, 2343, 2344, 2345,\n",
       "        2346, 2347, 2348, 2349, 2350, 2351, 2352, 2353, 2354, 2355, 2356,\n",
       "        2357, 2358, 2359, 2360, 2361, 2362, 2363, 2364, 2365, 2366, 2367,\n",
       "        2368, 2369, 2370, 2371, 2372, 2373, 2374, 2375, 2376, 2377, 2378,\n",
       "        2379, 2380, 2381, 2382, 2383, 2384, 2385, 2386, 2387, 2388, 2389,\n",
       "        2390, 2391, 2392, 2393, 2394, 2395, 2396, 2397, 2398, 2399, 2400,\n",
       "        2401, 2402, 2403, 2404, 2405, 2406, 2407, 2408, 2409, 2410, 2411,\n",
       "        2412, 2413, 2414, 2415, 2416, 2417, 2418, 2419, 2420, 2421, 2422,\n",
       "        2423, 2424, 2425, 2426, 2427, 2428, 2429, 2430, 2431, 2432, 2433,\n",
       "        2434, 2435, 2436, 2437, 2438, 2439, 2440, 2441, 2442, 2443, 2444,\n",
       "        2445, 2446, 2447, 2448, 2449, 2450, 2451, 2452, 2453, 2454, 2455,\n",
       "        2456, 2457, 2458, 2459, 2460, 2461, 2462, 2463, 2464, 2465, 2466,\n",
       "        2467, 2468, 2469, 2470, 2471, 2472, 2473, 2474, 2475, 2476, 2477,\n",
       "        2478, 2479, 2480, 2481, 2482, 2483, 2484, 2485, 2486, 2487, 2488,\n",
       "        2489, 2490, 2491, 2492, 2493, 2494, 2495, 2496, 2497, 2498, 2499,\n",
       "        2500, 2501, 2502, 2503, 2504, 2505, 2506, 2507, 2508, 2509, 2510,\n",
       "        2511, 2512, 2513, 2514, 2515, 2516, 2517, 2518, 2519, 2520, 2521,\n",
       "        2522, 2523, 2524, 2525, 2526, 2527, 2528, 2529, 2530, 2531, 2532,\n",
       "        2533, 2534, 2535, 2536, 2537, 2538, 2539, 2540, 2541, 2542, 2543,\n",
       "        2544, 2545, 2546, 2547, 2548, 2549]),\n",
       " 'training': array([[ 2.80516353, -2.18778173],\n",
       "        [ 2.54924738, -2.41533293],\n",
       "        [ 2.18519764, -2.65973978],\n",
       "        ...,\n",
       "        [ 1.58685847, -0.70027107],\n",
       "        [ 2.08427296, -1.23543779],\n",
       "        [ 2.45192715, -1.74110714]]),\n",
       " 'test': array([[ 2.97457282, -2.12457306],\n",
       "        [ 2.88806595, -2.43218858],\n",
       "        [ 2.56006074, -2.67659543],\n",
       "        ...,\n",
       "        [ 1.622903  , -0.88146925],\n",
       "        [ 2.1347353 , -1.45034727],\n",
       "        [ 2.63575425, -1.88016621]]),\n",
       " 'train_m': array([-0.09224947, -0.05581922]),\n",
       " 'train_std': array([0.27743462, 0.23730922]),\n",
       " '_train': array([   1,    2,    3, ..., 2371, 2372, 2373]),\n",
       " 't_test': array([   1,    2,    3, ..., 2719, 2720, 2721]),\n",
       " 'idx_anomaly_test': array([2026, 2027, 2028, 2029, 2030, 2031, 2032, 2033, 2034, 2035, 2036,\n",
       "        2037, 2038, 2039, 2040, 2041, 2042, 2043, 2044, 2045, 2046, 2047,\n",
       "        2048, 2049, 2050, 2051, 2052, 2053, 2054, 2055, 2056, 2057, 2058,\n",
       "        2059, 2060, 2061, 2062, 2063, 2064, 2065, 2066, 2067, 2068, 2069,\n",
       "        2070, 2071, 2072, 2073, 2074, 2075, 2076, 2077, 2078, 2079, 2080,\n",
       "        2081, 2082, 2083, 2084, 2085, 2086, 2087, 2088, 2089, 2090, 2091,\n",
       "        2092, 2093, 2094, 2095, 2096, 2097, 2098, 2099, 2100, 2101, 2102,\n",
       "        2103, 2104, 2105, 2106, 2107, 2108, 2109, 2110, 2111, 2112, 2113,\n",
       "        2114, 2115, 2116, 2117, 2118, 2119, 2120, 2121, 2122, 2123, 2124,\n",
       "        2125, 2126, 2127, 2128, 2129, 2130, 2131, 2132, 2133, 2134, 2135,\n",
       "        2136, 2137, 2138, 2139, 2140, 2141, 2142, 2143, 2144, 2145, 2146,\n",
       "        2147, 2148, 2149, 2150, 2151, 2152, 2153, 2154, 2155, 2156, 2157,\n",
       "        2158, 2159, 2160, 2161, 2162, 2163, 2164, 2165, 2166, 2167, 2168,\n",
       "        2169, 2170, 2171, 2172, 2173, 2174, 2175, 2176, 2177, 2178, 2179,\n",
       "        2180, 2181, 2182, 2183, 2184, 2185, 2186, 2187, 2188, 2189, 2190,\n",
       "        2191, 2192, 2193, 2194, 2195, 2196, 2197, 2198, 2199, 2200, 2201,\n",
       "        2202, 2203, 2204, 2205, 2206, 2207, 2208, 2209, 2210, 2211, 2212,\n",
       "        2213, 2214, 2215, 2216, 2217, 2218, 2219, 2220, 2221, 2222, 2223,\n",
       "        2224, 2225, 2226, 2227, 2228, 2229, 2230, 2231, 2232, 2233, 2234,\n",
       "        2235, 2236, 2237, 2238, 2239, 2240, 2241, 2242, 2243, 2244, 2245,\n",
       "        2246, 2247, 2248, 2249, 2250, 2251, 2252, 2253, 2254, 2255, 2256,\n",
       "        2257, 2258, 2259, 2260, 2261, 2262, 2263, 2264, 2265, 2266, 2267,\n",
       "        2268, 2269, 2270, 2271, 2272, 2273, 2274, 2275, 2276, 2277, 2278,\n",
       "        2279, 2280, 2281, 2282, 2283, 2284])}"
      ]
     },
     "execution_count": 68,
     "metadata": {},
     "output_type": "execute_result"
    }
   ],
   "source": [
    "result\n"
   ]
  },
  {
   "cell_type": "code",
   "execution_count": 9,
   "metadata": {},
   "outputs": [
    {
     "name": "stdout",
     "output_type": "stream",
     "text": [
      "(1813, 24, 1)\n",
      "(1, 24, 1)\n"
     ]
    }
   ],
   "source": [
    "# Evaluate ELBO and LSTM prediction error on the validation set\n",
    "# evaluate some anomaly detection metrics\n",
    "def evaluate_vae_anomaly_metrics_for_a_window(test_win):\n",
    "    feed_dict = {model_vae.original_signal: np.expand_dims(test_win, 0),\n",
    "                 model_vae.is_code_input: False,\n",
    "                 model_vae.code_input: np.zeros((1, config['code_size']))}\n",
    "\n",
    "    # VAE reconstruction error\n",
    "    recons_win_vae = np.squeeze(sess.run(model_vae.decoded, feed_dict=feed_dict))\n",
    "    test_vae_recons_error = np.sum(np.square(recons_win_vae - test_win))\n",
    "\n",
    "    # VAE latent embedding likelihood\n",
    "    vae_code_mean, vae_code_std = sess.run([model_vae.code_mean, model_vae.code_std_dev], feed_dict=feed_dict)\n",
    "    test_vae_kl = 0.5 * (np.sum(np.square(vae_code_mean)) + \\\n",
    "                            np.sum(np.square(vae_code_std)) - \\\n",
    "                            np.sum(np.log(np.square(vae_code_std))) - config['code_size'])\n",
    "\n",
    "    # VAE ELBO loss\n",
    "    sigma2 = 0.0005\n",
    "    input_dims = model_vae.input_dims\n",
    "    sigma_regularisor = input_dims/2. * np.log(sigma2) + input_dims * np.pi\n",
    "    test_vae_elbo = test_vae_recons_error/sigma2 + test_vae_kl + sigma_regularisor\n",
    "    return test_vae_recons_error, test_vae_kl, test_vae_elbo\n",
    "\n",
    "def evaluate_lstm_anomaly_metric_for_a_seq(test_seq):\n",
    "    feed_dict = {model_vae.original_signal: test_seq,\n",
    "                 model_vae.is_code_input: False,\n",
    "                 model_vae.code_input: np.zeros((1, config['code_size']))}\n",
    "    vae_embedding = np.squeeze(sess.run(model_vae.code_mean, feed_dict=feed_dict))\n",
    "    #print(vae_embedding.shape)\n",
    "    lstm_embedding = np.squeeze(lstm_nn_model.predict(np.expand_dims(vae_embedding[:config['l_seq']-1], 0), batch_size=1))\n",
    "    lstm_embedding_error = np.sum(np.square(vae_embedding[1:] - lstm_embedding))\n",
    "    # error_original = vae_embedding[1:] - lstm_embedding\n",
    "    #print(error_original.shape)\n",
    "    \n",
    "    # LSTM prediction error\n",
    "    feed_dict_lstm = {model_vae.original_signal: np.zeros((config['l_seq'] - 1, config['l_win'], config['n_channel'])),\n",
    "                      model_vae.is_code_input: True,\n",
    "                      model_vae.code_input: lstm_embedding}\n",
    "    recons_win_lstm = np.squeeze(sess.run(model_vae.decoded, feed_dict=feed_dict_lstm))\n",
    "    lstm_recons_error = np.sum(np.square(recons_win_lstm - np.squeeze(test_seq[1:])))\n",
    "    error_original = np.abs(recons_win_lstm - np.squeeze(test_seq[1:])).reshape((config['l_seq']-1,-1)) #them dong nay de tinh\n",
    "    return lstm_recons_error, lstm_embedding_error, error_original\n",
    "\n",
    "data.val_set_vae['data'] = np.asarray(data.val_set_vae['data'])\n",
    "print(data.val_set_vae['data'].shape)\n",
    "data.val_set_lstm['data'] = np.asarray(data.val_set_lstm['data'])\n",
    "data.train_set_lstm['data'] = np.asarray(data.train_set_lstm['data'])\n",
    "data.train_set_vae['data'] = np.asarray(data.train_set_vae['data'])\n",
    "n_val_vae = data.val_set_vae['data'].shape[0]\n",
    "n_val_lstm = data.val_set_lstm['data'].shape[0]\n",
    "# print(np.asarray(data.val_set_vae['data']).shape)\n",
    "\n",
    "val_vae_recons_error = np.zeros(n_val_vae)\n",
    "val_vae_kl_error = np.zeros(n_val_vae)\n",
    "val_vae_elbo_loss = np.zeros(n_val_vae)\n",
    "print(np.reshape(data.val_set_vae['data'][0], (-1, config['l_win'], config['n_channel'])).shape)\n",
    "for i in range(n_val_vae):\n",
    "#     val_vae_recons_error[i], val_vae_kl_error[i], val_vae_elbo_loss[i] = evaluate_vae_anomaly_metrics_for_a_window(np.reshape(data.val_set_vae['data'][i], (-1, config['l_win'], config['n_channel'])))\n",
    "    val_vae_recons_error[i], val_vae_kl_error[i], val_vae_elbo_loss[i] = evaluate_vae_anomaly_metrics_for_a_window(data.val_set_vae['data'][i])\n",
    "\n",
    "val_lstm_recons_error, val_lstm_embedding_error = np.zeros(n_val_lstm), np.zeros(n_val_lstm)\n",
    "val_lstm_error_original = np.zeros((n_val_lstm,config['l_seq']-1,config['l_win']*config['n_channel'])) #them de tinh OCSVM\n",
    "for i in range(n_val_lstm):\n",
    "    val_lstm_recons_error[i], val_lstm_embedding_error[i], val_lstm_error_original[i] = evaluate_lstm_anomaly_metric_for_a_seq(np.reshape(data.val_set_lstm['data'][i], (-1, config['l_win'], config['n_channel'])))\n",
    "\n",
    "n_train_lstm = data.train_set_lstm['data'].shape[0]\n",
    "train_lstm_recons_error, train_lstm_embedding_error = np.zeros(n_train_lstm), np.zeros(n_train_lstm)\n",
    "train_lstm_error_original = np.zeros((n_train_lstm,config['l_seq']-1,config['l_win']*config['n_channel'])) #them de tinh OCSVM\n",
    "for i in range(n_train_lstm):\n",
    "    train_lstm_recons_error[i], train_lstm_embedding_error[i], train_lstm_error_original[i] = evaluate_lstm_anomaly_metric_for_a_seq(np.reshape(data.train_set_lstm['data'][i], (-1, config['l_win'], config['n_channel'])))"
   ]
  },
  {
   "cell_type": "code",
   "execution_count": 70,
   "metadata": {},
   "outputs": [
    {
     "data": {
      "text/plain": [
       "12"
      ]
     },
     "execution_count": 70,
     "metadata": {},
     "output_type": "execute_result"
    }
   ],
   "source": [
    "config['l_seq']"
   ]
  },
  {
   "cell_type": "code",
   "execution_count": 10,
   "metadata": {},
   "outputs": [],
   "source": [
    "from scipy.stats import norm\n",
    "def plot_histogram(test_anomaly_metric, n_bins, title, mean=None, std=None, xlim=None, saveplot=False):\n",
    "    test_anomaly_list = np.squeeze(np.ndarray.flatten(test_anomaly_metric))\n",
    "    his = plt.hist(test_anomaly_list, bins=n_bins, density=True)\n",
    "    if mean is None and std is None:\n",
    "        mean = np.mean(test_anomaly_list)\n",
    "        std = np.std(test_anomaly_list)\n",
    "        legend_label = None\n",
    "    else:\n",
    "        legend_label = 1\n",
    "    x_axis = np.arange(mean-5*std, mean+5*std, std/100)\n",
    "    plt.plot(x_axis, norm.pdf(x_axis,mean,std))\n",
    "    plt.title(title)\n",
    "    plt.xlabel('anomaly score value')\n",
    "    plt.ylabel('probability density')\n",
    "    if xlim is not None:\n",
    "        plt.xlim(0, xlim)\n",
    "    else:\n",
    "        plt.xlim(0, np.amax(test_anomaly_list))\n",
    "    if legend_label is None:\n",
    "        plt.legend(('Fitted Gaussian', 'histogram'))\n",
    "    else:\n",
    "        plt.legend(('normal data distribution','test data distribution (contain anomalies)'))\n",
    "    if saveplot:\n",
    "        savefig(config['result_dir']+'reconstruction_error_histogram.pdf')\n",
    "    else:\n",
    "        plt.show()\n",
    "    threshold_25 = np.percentile(test_anomaly_list, 25)\n",
    "    threshold_75 = np.percentile(test_anomaly_list, 75)\n",
    "    threshold_1 = np.percentile(test_anomaly_list, 99)\n",
    "    idx_large_error = np.squeeze(np.argwhere(test_anomaly_metric > threshold_1))\n",
    "#     print(his[0][-20:])\n",
    "#     print(his[1][-20:])\n",
    "    print(\"25% percentile: {}\".format(threshold_25))\n",
    "    print(\"75% percentile: {}\".format(threshold_75))\n",
    "#     print(\"Median: {}\".format(np.median(test_anomaly_list)))\n",
    "#     print(\"Mean: {}\".format(np.mean(test_anomaly_list)))\n",
    "#     print(\"Std dev: {}\".format(np.std(test_anomaly_list)))\n",
    "    print(\"These windows scored the top 1% of anomaly metric ({}): \\n{}\".format(threshold_1, idx_large_error))\n",
    "    return mean, std"
   ]
  },
  {
   "cell_type": "code",
   "execution_count": 11,
   "metadata": {},
   "outputs": [
    {
     "data": {
      "image/png": "[encoded data removed]",
      "text/plain": [
       "<Figure size 432x288 with 1 Axes>"
      ]
     },
     "metadata": {
      "needs_background": "light"
     },
     "output_type": "display_data"
    },
    {
     "name": "stdout",
     "output_type": "stream",
     "text": [
      "25% percentile: 211141.09428917256\n",
      "75% percentile: 944312.9623608551\n",
      "These windows scored the top 1% of anomaly metric (2414313.446597125): \n",
      "[1018 1407 1492 1576 1583 1604 1605 1613 1614 1692 1699 1702 1710 1711\n",
      " 1723 1748 1750 1751 1761]\n"
     ]
    }
   ],
   "source": [
    "# Histogram of VAE ELBO loss - validation set\n",
    "vae_elbo_m, vae_elbo_std = plot_histogram(val_vae_elbo_loss, 100, \n",
    "                                          'VAE ELBO error distribution on the val set', \n",
    "                                          mean=None, std=None, xlim=None)"
   ]
  },
  {
   "cell_type": "code",
   "execution_count": 12,
   "metadata": {},
   "outputs": [
    {
     "data": {
      "image/png": "[encoded data removed]",
      "text/plain": [
       "<Figure size 432x288 with 1 Axes>"
      ]
     },
     "metadata": {
      "needs_background": "light"
     },
     "output_type": "display_data"
    },
    {
     "name": "stdout",
     "output_type": "stream",
     "text": [
      "25% percentile: 109.32558705481071\n",
      "75% percentile: 182.7352424674721\n",
      "These windows scored the top 1% of anomaly metric (299.491229078309): \n",
      "[   84   159   329   389   637   650   781   821   845   901   939  1029\n",
      "  1073  1336  1354  1760  1846  1858  1895  2028  2300  2547  2550  2581\n",
      "  2605  2739  2854  2907  2958  3345  3384  3557  3570  3613  3681  3775\n",
      "  3820  3882  3896  3968  3991  4118  4432  4514  4621  4660  4782  4835\n",
      "  4859  4913  4918  4948  4954  4998  5811  5840  5846  5848  5850  5874\n",
      "  6017  6036  6174  6279  6326  6354  6378  6629  6708  6774  6801  6916\n",
      "  6994  7035  7119  7292  7444  7532  7560  7580  7757  7860  8189  8193\n",
      "  8491  8545  8598  8689  8793  8870  8974  8987  9011  9087  9090  9107\n",
      "  9184  9445  9455  9550  9591  9743  9861 10002 10051 10100 10127 10143\n",
      " 10180 10258 10350 10407 10701 10702 10724 10751 10757 10772 10855 10863\n",
      " 11035 11077 11116 11139 11276 11330 11401 11475 11677 11712 11728 11835\n",
      " 11859 12064 12069 12156 12375 12534 12747 12830 13350 13364 13461 13597\n",
      " 13600 13695 13807 13835 14039 14120 14196 14200 14451 14708 14901 14971\n",
      " 15243 15275 15468 15557 15879]\n"
     ]
    }
   ],
   "source": [
    "# Histogram of LSTM reconstruction error - train set \n",
    "#  --> to decide the anomaly detection threshold\n",
    "lstm_recons_m_train, lstm_recons_std_train = plot_histogram(train_lstm_recons_error, 100,  \n",
    "                                              'LSTM reconstruction error distribution on the train set', \n",
    "                                              mean=None, std=None, xlim=None)"
   ]
  },
  {
   "cell_type": "code",
   "execution_count": 13,
   "metadata": {
    "scrolled": true
   },
   "outputs": [
    {
     "data": {
      "image/png": "[encoded data removed]",
      "text/plain": [
       "<Figure size 432x288 with 1 Axes>"
      ]
     },
     "metadata": {
      "needs_background": "light"
     },
     "output_type": "display_data"
    },
    {
     "name": "stdout",
     "output_type": "stream",
     "text": [
      "25% percentile: 107.33128384571518\n",
      "75% percentile: 180.29768888707505\n",
      "These windows scored the top 1% of anomaly metric (300.33697988154734): \n",
      "[ 139  592  664  734  807  882  891 1026 1033 1123 1189 1334 1399 1463\n",
      " 1552 1562 1642 1783]\n"
     ]
    }
   ],
   "source": [
    "# Histogram of LSTM reconstruction error - validation set \n",
    "#  --> to decide the anomaly detection threshold\n",
    "lstm_recons_m_val, lstm_recons_std_val = plot_histogram(val_lstm_recons_error, 100,  \n",
    "                                              'LSTM reconstruction error distribution on the val set', \n",
    "                                              mean=None, std=None, xlim=None)"
   ]
  },
  {
   "cell_type": "code",
   "execution_count": 14,
   "metadata": {},
   "outputs": [
    {
     "name": "stdout",
     "output_type": "stream",
     "text": [
      "All windows' reconstruction error is computed.\n",
      "The total number of windows is 14499\n"
     ]
    }
   ],
   "source": [
    "# Evaluate the anomaly metrics on the test windows and sequences\n",
    "n_test_lstm = test_seq.shape[0]\n",
    "\n",
    "test_lstm_recons_error, test_lstm_embedding_error = np.zeros(n_test_lstm), np.zeros(n_test_lstm)\n",
    "test_lstm_error_original = np.zeros((n_test_lstm,config['l_seq']-1,config['l_win']*config['n_channel']))\n",
    "for i in range(n_test_lstm):\n",
    "    test_lstm_recons_error[i], test_lstm_embedding_error[i], test_lstm_error_original[i] = evaluate_lstm_anomaly_metric_for_a_seq(test_seq[i])\n",
    "print(\"All windows' reconstruction error is computed.\")\n",
    "print(\"The total number of windows is {}\".format(len(test_lstm_recons_error)))"
   ]
  },
  {
   "cell_type": "code",
   "execution_count": 15,
   "metadata": {},
   "outputs": [
    {
     "name": "stdout",
     "output_type": "stream",
     "text": [
      "25% percentile: 138.26543770497082\n",
      "75% percentile: 219.36735980811997\n",
      "These windows scored the top 1% of anomaly metric (350.70640907390737): \n",
      "[  59   60   61   62   63   64   65   66   67   68   69   70   71   72\n",
      "   73   78   79   80   81   82   83   84   85   86   87   88  850  851\n",
      "  852  853  854  855  856 2746 2747 2748 2749 2750 2751 2752 2753 2754\n",
      " 2755 2756 2757 2758 2759 2760 2761 2762 2764 2765 2766 2767 2768 2769\n",
      " 2770 2771 2772 2773 2774 2775 2776 2777 2778 3968 3969 3970 3971 3972\n",
      " 3973 3974 3975 3976 3977 3978 3979 3980 3981 3982 3983 3984 3985 3986\n",
      " 3987 3988 3989 3990 3991 3992 3993 3994 3995 3996 3997 3998 3999 4000\n",
      " 4001 4002 4003 4004 4005 4006 4007 4008 4009 4010 4011 4012 4013 4014\n",
      " 4015 4016 4017 4018 4019 4020 4021 4022 4023 4024 4025 4026 4027 4028\n",
      " 4091 4092 4093 4094 4095 4105 4106 4107 4108 4109 4110 4111 4112 4113\n",
      " 4114 4115 4116 4117 4118]\n"
     ]
    },
    {
     "data": {
      "image/png": "[encoded data removed]",
      "text/plain": [
       "<Figure size 432x288 with 1 Axes>"
      ]
     },
     "metadata": {
      "needs_background": "light"
     },
     "output_type": "display_data"
    }
   ],
   "source": [
    "# Histogram of LSTM reconstruction error - test set \n",
    "#  --> to detect anomaly now\n",
    "_, _ = plot_histogram(test_lstm_recons_error, 100,\n",
    "                      'LSTM reconstruction error distribution on the test set', \n",
    "                      mean=lstm_recons_m_val, std=lstm_recons_std_val, xlim=None, saveplot=True)"
   ]
  },
  {
   "cell_type": "code",
   "execution_count": 16,
   "metadata": {},
   "outputs": [
    {
     "name": "stdout",
     "output_type": "stream",
     "text": [
      "(14499,)\n"
     ]
    }
   ],
   "source": [
    "# Produce the ground truth anomaly indices \n",
    "# if result['idx_split'][0] == 0:\n",
    "#     idx_anomaly_test = result['idx_anomaly_test']\n",
    "# else:\n",
    "#     idx_anomaly_test = result['idx_anomaly_test'][0]\n",
    "idx_anomaly_test = result['idx_anomaly_test']    \n",
    "anomaly_index_lstm = []\n",
    "test_labels_lstm = np.zeros(n_test_lstm)\n",
    "for i in range(len(idx_anomaly_test)):\n",
    "    idx_start = idx_anomaly_test[i]-(config['l_win']*config['l_seq']-1)\n",
    "    idx_end = idx_anomaly_test[i]+1\n",
    "    if idx_start < 0:\n",
    "        idx_start = 0\n",
    "    if idx_end > n_test_lstm:\n",
    "        idx_end = n_test_lstm\n",
    "    anomaly_index_lstm.append(np.arange(idx_start,idx_end))\n",
    "    test_labels_lstm[idx_start:idx_end] = 1\n",
    "    \n",
    "print(test_labels_lstm.shape)"
   ]
  },
  {
   "cell_type": "code",
   "execution_count": 17,
   "metadata": {},
   "outputs": [
    {
     "name": "stdout",
     "output_type": "stream",
     "text": [
      "[ 7754  7755  7756 ... 34097 34098 34099]\n"
     ]
    },
    {
     "name": "stderr",
     "output_type": "stream",
     "text": [
      "IOPub data rate exceeded.\n",
      "The notebook server will temporarily stop sending output\n",
      "to the client in order to avoid crashing it.\n",
      "To change this limit, set the config variable\n",
      "`--NotebookApp.iopub_data_rate_limit`.\n",
      "\n",
      "Current values:\n",
      "NotebookApp.iopub_data_rate_limit=1000000.0 (bytes/sec)\n",
      "NotebookApp.rate_limit_window=3.0 (secs)\n",
      "\n"
     ]
    },
    {
     "name": "stdout",
     "output_type": "stream",
     "text": [
      "\n",
      "[0. 0. 0. ... 0. 0. 0.]\n"
     ]
    }
   ],
   "source": [
    "print(result['idx_anomaly_test'])\n",
    "print(list(anomaly_index_lstm))\n",
    "print(test_labels_lstm)"
   ]
  },
  {
   "cell_type": "code",
   "execution_count": 18,
   "metadata": {},
   "outputs": [
    {
     "name": "stdout",
     "output_type": "stream",
     "text": [
      "(187.0347828454766, 160.80990921933954, 183.21653964078834, 149.83482159480383, 148.50994780391167)\n",
      "(63.37596568536313, 31.168334048408397, 183.21653964078834, 54.229772505778534, 54.90552972919817)\n"
     ]
    },
    {
     "data": {
      "image/png": "[encoded data removed]",
      "text/plain": [
       "<Figure size 432x288 with 1 Axes>"
      ]
     },
     "metadata": {
      "needs_background": "light"
     },
     "output_type": "display_data"
    }
   ],
   "source": [
    "test_normal_idx = np.squeeze(np.argwhere(test_labels_lstm==0))\n",
    "test_anomaly_idx = np.squeeze(np.argwhere(test_labels_lstm==1))\n",
    "test_lstm_recons_error_normal = test_lstm_recons_error[test_normal_idx]\n",
    "test_lstm_recons_error_anomaly = test_lstm_recons_error[test_anomaly_idx]\n",
    "lstm_recons_m_test_normal = np.mean(test_lstm_recons_error_normal)\n",
    "lstm_recons_std_test_normal = np.std(test_lstm_recons_error_normal)\n",
    "lstm_recons_m_test_anomaly = np.mean(test_lstm_recons_error_anomaly)\n",
    "lstm_recons_std_test_anomaly = np.std(test_lstm_recons_error_anomaly)\n",
    "lstm_recons_m_test = np.mean(test_lstm_recons_error)\n",
    "lstm_recons_std_test = np.mean(test_lstm_recons_error)\n",
    "\n",
    "means = (lstm_recons_m_test_normal, lstm_recons_m_test_anomaly, lstm_recons_m_test, lstm_recons_m_train, lstm_recons_m_val)\n",
    "stds = (lstm_recons_std_test_normal, lstm_recons_std_test_anomaly, lstm_recons_std_test, lstm_recons_std_train, lstm_recons_std_val)\n",
    "for mean,std in zip(means,stds):\n",
    "    x_axis = np.arange(mean-5*std, mean+5*std, std/100)\n",
    "    #x_axis = np.arange(-10000,10000)\n",
    "    plt.plot(x_axis, norm.pdf(x_axis,mean,std))\n",
    "plt.legend(('test_norm', 'test_anomaly', 'test', 'train', 'val')) \n",
    "#plt.xscale('log')\n",
    "#plt.yscale('log')\n",
    "plt.title(\"Distribution of different sets on \" + config['dataset'])\n",
    "#print(lstm_recons_m_test,lstm_recons_std_test)\n",
    "#print(lstm_recons_m_val,lstm_recons_std_val)\n",
    "#print(lstm_recons_m_test_normal,lstm_recons_m_test_normal)\n",
    "print(means)\n",
    "print(stds)"
   ]
  },
  {
   "cell_type": "code",
   "execution_count": 19,
   "metadata": {},
   "outputs": [],
   "source": [
    "def return_anomaly_idx_by_threshold(test_anomaly_metric, threshold):\n",
    "    test_list = np.squeeze(np.ndarray.flatten(test_anomaly_metric))\n",
    "    idx_error = np.squeeze(np.argwhere(test_anomaly_metric > threshold))\n",
    "    \n",
    "    if len(idx_error.shape) == 0:\n",
    "        idx_error = np.expand_dims(idx_error, 0)\n",
    "    \n",
    "    return list(idx_error)"
   ]
  },
  {
   "cell_type": "code",
   "execution_count": 20,
   "metadata": {},
   "outputs": [],
   "source": [
    "def augment_detected_idx(idx_detected_anomaly, anomaly_index):\n",
    "    n_anomaly = len(anomaly_index)\n",
    "    idx_detected_anomaly_extended = list(idx_detected_anomaly)\n",
    "    for i in range(n_anomaly):\n",
    "        #print(idx_detected_anomaly)\n",
    "        for j in idx_detected_anomaly:\n",
    "            if j in anomaly_index[i]:\n",
    "                in_original_detection = set(idx_detected_anomaly_extended)\n",
    "                currect_anomaly_win = set(anomaly_index[i])\n",
    "                idx_detected_anomaly_extended = idx_detected_anomaly_extended + list(currect_anomaly_win - in_original_detection)\n",
    "                #print(j)\n",
    "                break\n",
    "                \n",
    "    return list(np.sort(idx_detected_anomaly_extended))"
   ]
  },
  {
   "cell_type": "code",
   "execution_count": 21,
   "metadata": {},
   "outputs": [],
   "source": [
    "def count_TP_TN_FP_FN(idx_detected_anomaly, anomaly_index, test_labels):\n",
    "    n_TP = 0\n",
    "    n_FP = 0\n",
    "    n_TN = 0\n",
    "    n_detection = len(idx_detected_anomaly)\n",
    "    for i in range(n_detection):\n",
    "        if test_labels[idx_detected_anomaly[i]] == 1:\n",
    "            n_TP = n_TP + 1\n",
    "        else:\n",
    "            n_FP = n_FP + 1 #both branch the same?\n",
    "\n",
    "    idx_undetected = list(set(np.arange(len(test_labels)))- set(idx_detected_anomaly))\n",
    "    n_FN = 0\n",
    "    for i in idx_undetected:\n",
    "        if test_labels[i] == 1:\n",
    "            n_FN = n_FN + 1\n",
    "        else:\n",
    "            n_TN = n_TN + 1\n",
    "\n",
    "    return n_TP, n_TN, n_FP, n_FN"
   ]
  },
  {
   "cell_type": "code",
   "execution_count": 22,
   "metadata": {},
   "outputs": [],
   "source": [
    "def compute_precision_and_recall(idx_detected_anomaly, anomaly_index, test_labels):\n",
    "    # compute true positive\n",
    "    n_TP, n_TN, n_FP, n_FN = count_TP_TN_FP_FN(idx_detected_anomaly, anomaly_index, test_labels)\n",
    "\n",
    "    accuracy = (n_TP + n_TN) / (n_TP + n_TN + n_FP + n_FN)\n",
    "    if n_TP + n_FP == 0:\n",
    "        precision = 1\n",
    "    else:\n",
    "        precision = n_TP / (n_TP + n_FP)\n",
    "    recall = n_TP / (n_TP + n_FN)\n",
    "    if precision + recall == 0:\n",
    "        F1 = 0\n",
    "    else:\n",
    "        F1 = 2* (precision * recall)/(precision + recall)\n",
    "\n",
    "    return accuracy, precision, recall, F1, n_TP, n_TN, n_FP, n_FN"
   ]
  },
  {
   "cell_type": "code",
   "execution_count": 23,
   "metadata": {},
   "outputs": [],
   "source": [
    "n_threshold = 25\n",
    "accuracy = np.zeros(n_threshold)\n",
    "precision = np.zeros(n_threshold)\n",
    "recall = np.zeros(n_threshold)\n",
    "F1 = np.zeros(n_threshold)\n",
    "accuracy_aug = np.zeros(n_threshold)\n",
    "precision_aug = np.zeros(n_threshold)\n",
    "recall_aug = np.zeros(n_threshold)\n",
    "F1_aug = np.zeros(n_threshold)\n",
    "i = 0\n",
    "threshold_list = np.linspace(np.amin(test_lstm_recons_error), np.amax(test_lstm_recons_error), n_threshold, endpoint=True)\n",
    "threshold_list = np.flip(threshold_list)\n",
    "for threshold in threshold_list:\n",
    "    #print(threshold_list[i])\n",
    "    idx_detection_lstm = return_anomaly_idx_by_threshold(test_lstm_recons_error, threshold)\n",
    "    accuracy[i], precision[i], recall[i], F1[i], _, _, _, _ = compute_precision_and_recall(idx_detection_lstm, \n",
    "                                                                           anomaly_index_lstm, \n",
    "                                                                           test_labels_lstm)\n",
    "    # augment the detection using the ground truth labels\n",
    "    # a method to discount the factor one anomaly appears in multiple consecutive windows\n",
    "    # introduced in \"Unsupervised anomaly detection via variational auto-encoder for seasonal kpis in web applications\"\n",
    "    idx_detection_lstm_augmented = augment_detected_idx(idx_detection_lstm, anomaly_index_lstm)\n",
    "    accuracy_aug[i], precision_aug[i], recall_aug[i], F1_aug[i], _, _, _, _ = compute_precision_and_recall(idx_detection_lstm_augmented, \n",
    "                                                                                       anomaly_index_lstm, \n",
    "                                                                                       test_labels_lstm)\n",
    "    i = i + 1\n",
    "    #print(precision, recall, F1)"
   ]
  },
  {
   "cell_type": "code",
   "execution_count": 24,
   "metadata": {},
   "outputs": [
    {
     "name": "stdout",
     "output_type": "stream",
     "text": [
      "Best F1 score is 0.2575640031031807\n",
      "Best threshold is 115.2368704905056\n",
      "At this threshold, accuracy is 0.2079453755431409, precision is 0.1491352848693569, recall is 0.9436286120322123\n",
      "Average precision is 0.11902003922608322\n",
      "\n",
      "Augmented detection:\n",
      "Best F1 score is 0.48992133726647\n",
      "Best threshold is 210.63181607430107\n",
      "At this threshold, accuracy is 0.7137733636802538, precision is 0.3307883817427386, recall is 0.9441023211747986\n",
      "Average precision is 0.26888145326415236\n"
     ]
    }
   ],
   "source": [
    "print(\"Best F1 score is {}\".format(np.amax(F1)))\n",
    "idx_best_threshold = np.squeeze(np.argwhere(F1 == np.amax(F1)))\n",
    "print(\"Best threshold is {}\".format(threshold_list[idx_best_threshold]))\n",
    "print(\"At this threshold, accuracy is {}, precision is {}, recall is {}\".format(accuracy[idx_best_threshold], precision[idx_best_threshold], recall[idx_best_threshold]))\n",
    "average_precision = np.sum(precision[1:] * (recall[1:] - recall[:-1]))\n",
    "print(\"Average precision is {}\".format(average_precision))\n",
    "\n",
    "print(\"\\nAugmented detection:\")\n",
    "print(\"Best F1 score is {}\".format(np.amax(F1_aug)))\n",
    "idx_best_threshold = np.squeeze(np.argwhere(F1_aug == np.amax(F1_aug)))\n",
    "print(\"Best threshold is {}\".format(threshold_list[idx_best_threshold]))\n",
    "best_thres = np.min(threshold_list[idx_best_threshold])\n",
    "print(\"At this threshold, accuracy is {}, precision is {}, recall is {}\".format(accuracy_aug[idx_best_threshold], precision_aug[idx_best_threshold], \n",
    "                                                                recall_aug[idx_best_threshold]))\n",
    "\n",
    "average_precision_aug = np.sum(precision_aug[1:] * (recall_aug[1:] - recall_aug[:-1]))\n",
    "print(\"Average precision is {}\".format(average_precision_aug))"
   ]
  },
  {
   "cell_type": "code",
   "execution_count": 25,
   "metadata": {},
   "outputs": [
    {
     "name": "stdout",
     "output_type": "stream",
     "text": [
      "KQp is: 308.4991113378913 with q = 0.05\n",
      "KQp is: 308.4991113378913 with q = 0.025\n",
      "KQp is: 308.4991113378913 with q = 0.01\n"
     ]
    }
   ],
   "source": [
    "import math\n",
    "from scipy.stats import norm\n",
    "\n",
    "def KQp(data,q):\n",
    "#UNTITLED3 Summary of this function goes here\n",
    "#   Detailed explanation goes here\n",
    "    data2 = np.sort(data) #sap xep tang dan\n",
    "    n = np.shape(data2)[0] #kich thuoc\n",
    "    p = 1-q #q tu xet, dat bang smth 0.05 0.025 0.01\n",
    "    h = math.sqrt((p*q)/(n+1));\n",
    "    KQ=0;\n",
    "    for i in range(1,n+1):\n",
    "        a= ((i/n)-p)/h;\n",
    "        b= (((i-1)/n)-p)/h;\n",
    "        TP=(norm.cdf(a)-norm.cdf(b))*data2[i-1]; #normcdf thu trong matlab\n",
    "        KQ=KQ+TP;    \n",
    "    KQp = KQ;\n",
    "    return KQp\n",
    "\n",
    "for i in [0.05,0.025,0.01]:\n",
    "    print(\"KQp is:\", KQp(test_lstm_recons_error,0.05),\"with q =\",i)\n"
   ]
  },
  {
   "cell_type": "code",
   "execution_count": 37,
   "metadata": {
    "scrolled": false
   },
   "outputs": [
    {
     "name": "stdout",
     "output_type": "stream",
     "text": [
      "KQp threshold is 219.3348153334671\n",
      "\n",
      "PR evaluation using KQE:\n",
      "Accuracy: 0.6810814538933719\n",
      "Precision: 0.22523507544281654\n",
      "Recall: 0.48792041686404547\n",
      "F1: 0.3081986834230999\n",
      "TP: 1030\n",
      "TN: 8845\n",
      "FP: 3543\n",
      "FN: 1081\n",
      "\n",
      "Threshold is 210.63181607430107\n",
      "\n",
      "PR evaluation using augmented detection:\n",
      "Accuracy: 0.7137733636802538\n",
      "Precision: 0.3307883817427386\n",
      "Recall: 0.9441023211747986\n",
      "F1: 0.48992133726647\n",
      "TP: 1993\n",
      "TN: 8356\n",
      "FP: 4032\n",
      "FN: 118\n"
     ]
    }
   ],
   "source": [
    "# Now select a threshold\n",
    "threshold = best_thres#100.13527662881674\n",
    "q = 0.25\n",
    "KQp_thres = KQp(test_lstm_recons_error, q)\n",
    "\n",
    "print(\"KQp threshold is {}\".format(KQp_thres))\n",
    "idx_detection = return_anomaly_idx_by_threshold(test_lstm_recons_error, KQp_thres)\n",
    "#print(idx_detection)\n",
    "idx_detection_augmented = augment_detected_idx(idx_detection, anomaly_index_lstm)\n",
    "#print(anomaly_index_lstm)\n",
    "#print(idx_detection_augmented)\n",
    "accuracy, precision, recall, F1, n_TP, n_TN, n_FP, n_FN = compute_precision_and_recall(idx_detection_augmented, \n",
    "                                                                       anomaly_index_lstm, \n",
    "                                                                       test_labels_lstm)\n",
    "print(\"\\nPR evaluation using KQE:\")\n",
    "print(\"Accuracy: {}\".format(accuracy))\n",
    "print(\"Precision: {}\".format(precision))\n",
    "print(\"Recall: {}\".format(recall))\n",
    "print(\"F1: {}\".format(F1))\n",
    "print(\"TP: {}\".format(n_TP))\n",
    "print(\"TN: {}\".format(n_TN))\n",
    "print(\"FP: {}\".format(n_FP))\n",
    "print(\"FN: {}\".format(n_FN))\n",
    "\n",
    "print(\"\\nThreshold is {}\".format(threshold))\n",
    "idx_detection = return_anomaly_idx_by_threshold(test_lstm_recons_error, threshold)\n",
    "idx_detection_augmented = augment_detected_idx(idx_detection, anomaly_index_lstm)\n",
    "accuracy, precision, recall, F1, n_TP, n_TN, n_FP, n_FN = compute_precision_and_recall(idx_detection_augmented, \n",
    "                                                                       anomaly_index_lstm, \n",
    "                                                                       test_labels_lstm)\n",
    "print(\"\\nPR evaluation using augmented detection:\")\n",
    "print(\"Accuracy: {}\".format(accuracy))\n",
    "print(\"Precision: {}\".format(precision))\n",
    "print(\"Recall: {}\".format(recall))\n",
    "print(\"F1: {}\".format(F1))\n",
    "print(\"TP: {}\".format(n_TP))\n",
    "print(\"TN: {}\".format(n_TN))\n",
    "print(\"FP: {}\".format(n_FP))\n",
    "print(\"FN: {}\".format(n_FN))"
   ]
  },
  {
   "cell_type": "code",
   "execution_count": 27,
   "metadata": {},
   "outputs": [
    {
     "name": "stdout",
     "output_type": "stream",
     "text": [
      "1.0\n",
      "0.5\n",
      "0.3333333333333333\n"
     ]
    }
   ],
   "source": [
    "import numpy as np\n",
    "for i in range(1,4):\n",
    "    print(1/i)"
   ]
  },
  {
   "cell_type": "code",
   "execution_count": 28,
   "metadata": {},
   "outputs": [],
   "source": [
    "def slice_detected_indices_into_seq(idx_detection, interval):\n",
    "    detected_seq = []\n",
    "    i = 0\n",
    "    while i < len(idx_detection):\n",
    "        if i == 0:\n",
    "            cur_seq = [idx_detection[i]]\n",
    "            i = i + 1\n",
    "        else:\n",
    "            if idx_detection[i] - idx_detection[i-1] > interval:\n",
    "                detected_seq.append(cur_seq)\n",
    "                cur_seq = [idx_detection[i]]\n",
    "            else:\n",
    "                cur_seq.append(idx_detection[i])\n",
    "                if i == len(idx_detection) - 1:\n",
    "                    detected_seq.append(cur_seq)\n",
    "            i = i + 1\n",
    "    \n",
    "    print(\"Detected {} sequences\".format(len(detected_seq)))\n",
    "    return detected_seq"
   ]
  },
  {
   "cell_type": "code",
   "execution_count": 29,
   "metadata": {},
   "outputs": [],
   "source": [
    "def plot_detected_anomalies(idx_detection, interval, dataset, result, detection_method, augmented_flag=1, y_scale=5, y_lim=None):\n",
    "    detected_seq = slice_detected_indices_into_seq(idx_detection, interval=interval)\n",
    "    #t_test = result['t_test']\n",
    "    test = result['test']\n",
    "    t_test = np.array(range(result['test'].shape[0]))\n",
    "    idx_anomaly_test = result['idx_anomaly_test']\n",
    "        \n",
    "    # plot detected sequences\n",
    "    fig, axs = plt.subplots(1, 1, figsize=(18, 5), edgecolor='k')\n",
    "    fig.subplots_adjust(hspace=.4, wspace=.4)\n",
    "    axs.plot(t_test, test)\n",
    "    for j in range(len(idx_anomaly_test)):\n",
    "        if j == 0:\n",
    "            axs.plot(idx_anomaly_test[j] * np.ones(20), np.linspace(-y_scale, y_scale, 20), 'r--', label='true anomalies')\n",
    "        else:\n",
    "            axs.plot(idx_anomaly_test[j] * np.ones(20), np.linspace(-y_scale, y_scale, 20), 'r--')\n",
    "        \n",
    "    for i in range(len(detected_seq)):\n",
    "        for j in detected_seq[i]:\n",
    "            if j == detected_seq[0][0]:\n",
    "                axs.plot((j+interval*2) * np.ones(20), np.linspace(-y_scale, -0.8*y_scale, 20), 'g-', label='detected anomalies')\n",
    "            else:\n",
    "                axs.plot((j+interval*2) * np.ones(20), np.linspace(-y_scale, -0.8*y_scale, 20), 'g-')\n",
    "    \n",
    "    for j in range(len(idx_anomaly_test)):\n",
    "        axs.plot(idx_anomaly_test[j] * np.ones(20), np.linspace(-y_scale, y_scale, 20), 'r--')\n",
    "\n",
    "    for i in range(len(detected_seq)):\n",
    "        interval_x = np.asarray([detected_seq[i][0], detected_seq[i][-1]+interval*2])\n",
    "        interval_y = np.asarray([y_scale,y_scale])\n",
    "        if i == 0:\n",
    "            axs.fill_between(interval_x, interval_y, alpha=0.2, color='y', label='detected anomaly windows')\n",
    "        else:\n",
    "            axs.fill_between(interval_x, interval_y, alpha=0.2, color='y')\n",
    "        interval_y = np.asarray([-y_scale,-y_scale])\n",
    "        axs.fill_between(interval_x, interval_y, alpha=0.2, color='y')\n",
    "    axs.grid(True)\n",
    "    axs.set_xlim(0, len(t_test))\n",
    "    if y_lim is None:\n",
    "        axs.set_ylim(-y_scale, y_scale)\n",
    "    else:\n",
    "        axs.set_ylim(-y_scale, y_lim)\n",
    "#     axs.set_xlabel(\"timestamp (every {})\".format(result['t_unit']))\n",
    "    axs.set_ylabel(\"normalised readings\")\n",
    "    axs.set_title(\"{} dataset test sequence\\n(normalised by train mean {:.4f} and std {:.4f})\\n Detection method: {}\".format(dataset, \n",
    "                                                                                        np.mean(result['train_m']), \n",
    "                                                                                        np.mean(result['train_std']),\n",
    "                                                                                        detection_method))\n",
    "    axs.legend()\n",
    "    savefig(config['result_dir']+'detected_anomalies_{}_aug_{}.pdf'.format(detection_method, augmented_flag))"
   ]
  },
  {
   "cell_type": "code",
   "execution_count": 30,
   "metadata": {
    "scrolled": true
   },
   "outputs": [],
   "source": [
    "# plot_detected_anomalies(idx_detection_augmented, \n",
    "#                         interval=config['l_win']*config['l_seq']/2, \n",
    "#                         dataset=dataset, \n",
    "#                         result=result, \n",
    "#                         detection_method='lstm reconstruction error',\n",
    "#                         augmented_flag=1,\n",
    "#                         y_scale=5,\n",
    "#                         y_lim=5)"
   ]
  },
  {
   "cell_type": "code",
   "execution_count": 31,
   "metadata": {},
   "outputs": [
    {
     "name": "stdout",
     "output_type": "stream",
     "text": [
      "OSCVM recons abs: \n",
      "Precision :  0.06952505033755774\n",
      "Recall:  0.2780672666982473\n",
      "F1_score:  0.1112374455182869\n",
      "Accuracy :  0.3530588316435616\n"
     ]
    }
   ],
   "source": [
    "from sklearn.metrics import precision_recall_curve\n",
    "from sklearn.metrics import precision_score\n",
    "from sklearn.metrics import recall_score\n",
    "from sklearn.metrics import f1_score\n",
    "from sklearn.metrics import accuracy_score\n",
    "\n",
    "#X_train =\n",
    "#predicted_train =\n",
    "#X_test = \n",
    "#predicted = \n",
    "y_test1 = np.where(test_labels_lstm==1,-1,1) #doi lai label\n",
    "\n",
    "#OCSVM\n",
    "#e=X_train - predicted_train\n",
    "#e = val_lstm_error_original\n",
    "e = train_lstm_error_original\n",
    "nsamples, nx, ny = e.shape\n",
    "d2_e = e.reshape((nsamples,nx*ny))\n",
    "\n",
    "nu = 0.5 #0.0055\n",
    "gamma = 'auto' #1.5\n",
    "from sklearn import svm\n",
    "clf = svm.OneClassSVM(nu=nu, kernel=\"rbf\", gamma=gamma)\n",
    "clf.fit(d2_e)\n",
    "\n",
    "#e_t=X_test - predicted\n",
    "e_t = test_lstm_error_original\n",
    "nsamples, nx, ny = e_t.shape\n",
    "\n",
    "d2_e_t = e_t.reshape((nsamples,nx*ny))\n",
    "y_scores = clf.predict(d2_e_t)\n",
    "\n",
    "precision = precision_score(y_test1, y_scores, pos_label=-1)\n",
    "recall    = recall_score(y_test1, y_scores, pos_label=-1)\n",
    "accuracy = accuracy_score(y_test1, y_scores)\n",
    "f1 = f1_score(y_test1, y_scores, pos_label=-1)\n",
    "print ('OSCVM recons abs: ')\n",
    "print ('Precision : ', precision)\n",
    "print ('Recall: ', recall)\n",
    "print ('F1_score: ', f1)\n",
    "print ('Accuracy : ', accuracy)\n"
   ]
  },
  {
   "cell_type": "code",
   "execution_count": 32,
   "metadata": {},
   "outputs": [
    {
     "data": {
      "text/plain": [
       "(14786, 1)"
      ]
     },
     "execution_count": 32,
     "metadata": {},
     "output_type": "execute_result"
    }
   ],
   "source": [
    "result['test'].shape\n"
   ]
  },
  {
   "cell_type": "code",
   "execution_count": 33,
   "metadata": {},
   "outputs": [
    {
     "name": "stdout",
     "output_type": "stream",
     "text": [
      "0.0\n",
      "0.0\n",
      "0.0\n"
     ]
    }
   ],
   "source": [
    "a = [1, 1, -1, -1]\n",
    "b = [1, -1, 1, 1]\n",
    "precision = precision_score(a,b,pos_label=-1)\n",
    "recall = recall_score(a,b,pos_label=-1)\n",
    "print(precision)\n",
    "print(recall)\n",
    "f1 = f1_score(a, b, pos_label=-1)\n",
    "print(f1)"
   ]
  },
  {
   "cell_type": "code",
   "execution_count": 34,
   "metadata": {},
   "outputs": [
    {
     "data": {
      "text/plain": [
       "[1, 3, 4, 1, 7, 8]"
      ]
     },
     "execution_count": 34,
     "metadata": {},
     "output_type": "execute_result"
    }
   ],
   "source": [
    "[1,3,4] + [1,7,8]"
   ]
  },
  {
   "cell_type": "code",
   "execution_count": 35,
   "metadata": {},
   "outputs": [
    {
     "name": "stdout",
     "output_type": "stream",
     "text": [
      "\n",
      "OSCVM recons abs augmented: \n",
      "Precision :  0.2117989364904184\n",
      "Recall:  1.0\n",
      "F1_score:  0.34956118562675936\n",
      "Accuracy :  0.45816952893302987\n"
     ]
    }
   ],
   "source": [
    "y_scores_idx_anomaly = np.squeeze(np.argwhere(y_scores==-1))\n",
    "idx_augmented = augment_detected_idx(y_scores_idx_anomaly, anomaly_index_lstm)\n",
    "y_scores[idx_augmented] = -1\n",
    "\n",
    "precision = precision_score(y_test1, y_scores, pos_label=-1)\n",
    "recall    = recall_score(y_test1, y_scores, pos_label=-1)\n",
    "accuracy = accuracy_score(y_test1, y_scores)\n",
    "f1 = f1_score(y_test1, y_scores, pos_label=-1)\n",
    "print ('\\nOSCVM recons abs augmented: ')\n",
    "print ('Precision : ', precision)\n",
    "print ('Recall: ', recall)\n",
    "print ('F1_score: ', f1)\n",
    "print ('Accuracy : ', accuracy)"
   ]
  },
  {
   "cell_type": "code",
   "execution_count": null,
   "metadata": {},
   "outputs": [],
   "source": []
  },
  {
   "cell_type": "code",
   "execution_count": null,
   "metadata": {},
   "outputs": [],
   "source": []
  },
  {
   "cell_type": "code",
   "execution_count": null,
   "metadata": {},
   "outputs": [],
   "source": []
  }
 ],
 "metadata": {
  "kernelspec": {
   "display_name": "Python 3",
   "language": "python",
   "name": "python3"
  },
  "language_info": {
   "codemirror_mode": {
    "name": "ipython",
    "version": 3
   },
   "file_extension": ".py",
   "mimetype": "text/x-python",
   "name": "python",
   "nbconvert_exporter": "python",
   "pygments_lexer": "ipython3",
   "version": "3.7.9"
  }
 },
 "nbformat": 4,
 "nbformat_minor": 2
}
